{
  "cells": [
    {
      "cell_type": "markdown",
      "metadata": {
        "id": "view-in-github",
        "colab_type": "text"
      },
      "source": [
        "<a href=\"https://colab.research.google.com/github/yerrapothuneeraj2002/Google_Play_Store_Apps_Dataset/blob/main/Final_Project.ipynb\" target=\"_parent\"><img src=\"https://colab.research.google.com/assets/colab-badge.svg\" alt=\"Open In Colab\"/></a>"
      ]
    },
    {
      "cell_type": "markdown",
      "id": "099d4b5b",
      "metadata": {
        "id": "099d4b5b"
      },
      "source": []
    },
    {
      "cell_type": "code",
      "source": [
        "from google.colab import drive\n",
        "drive.mount('/content/drive')"
      ],
      "metadata": {
        "colab": {
          "base_uri": "https://localhost:8080/"
        },
        "id": "C1J0GnkzohJ4",
        "outputId": "6df8fe10-a203-4072-9407-cbb521d30bb0"
      },
      "id": "C1J0GnkzohJ4",
      "execution_count": 2,
      "outputs": [
        {
          "output_type": "stream",
          "name": "stdout",
          "text": [
            "Drive already mounted at /content/drive; to attempt to forcibly remount, call drive.mount(\"/content/drive\", force_remount=True).\n"
          ]
        }
      ]
    },
    {
      "cell_type": "markdown",
      "id": "08ea8864",
      "metadata": {
        "id": "08ea8864"
      },
      "source": [
        "   #### DESCRIPTION\n",
        "\n",
        "\n",
        "\n",
        "\n",
        "My purpose of choosing this project is to gather and analyze detailed information on apps in the Google Play Store \n",
        "in order to draw actionable insights on app features and the current state of the Android app market.\n",
        "\n",
        "\n",
        "\n",
        "Google Play, formerly Android Market, is a digital distribution service operated and developed by Google. It serves as the official app store for certified devices running on the Android operating system, allowing users to browse and download applications developed with the Android software development kit (SDK) and published through Google.\n",
        "\n",
        "\n",
        "The Google Play Store is the largest and most popular Android app store. \n",
        "The play store apps data has enormous potential to drive app-making business to sucess. \n",
        "The app market is growing with a dynamic speed and is ever changing.\n",
        "The dataset for this project was found on Kaggle, and the information was collected through web scraping around 10,000 Play Store apps. \n",
        "Each app has values for category, rating, size, installs, type, price, content rating, genres, last updated, \n",
        "current version and android version. \n",
        "Python progrmming language is used in the analysis.\n",
        "By studying the given data it will be possible to find out the kind of apps that are doing well and why.\n",
        "Also to findout the kind of apps that can be launched in future depending on the market and competition.\n",
        "\n",
        "\n",
        "\n",
        "\n",
        "- Performing data cleaning and preparation using numpy and pandas\n",
        "- Perform Univaviate , Bivariate and Multivariate analysis to find out some insights from the data\n",
        "- Conclusions and assumptions and suggestions where required.\n",
        "- Summarize my inferences and write a conclusion."
      ]
    },
    {
      "cell_type": "code",
      "execution_count": 3,
      "id": "fbfd3497",
      "metadata": {
        "id": "fbfd3497"
      },
      "outputs": [],
      "source": [
        "# importing the important libraries\n",
        "\n",
        "import numpy as np\n",
        "import pandas as pd\n",
        "import seaborn as sns\n",
        "import matplotlib.pyplot as plt"
      ]
    },
    {
      "cell_type": "code",
      "execution_count": 4,
      "id": "85620b27",
      "metadata": {
        "id": "85620b27"
      },
      "outputs": [],
      "source": [
        "# importing the csv file using pandas\n",
        "\n",
        "df = pd.read_csv(\"/content/drive/MyDrive/EDA Project/googleplaystore.csv\")"
      ]
    },
    {
      "cell_type": "code",
      "execution_count": 5,
      "id": "1d30f66b",
      "metadata": {
        "colab": {
          "base_uri": "https://localhost:8080/",
          "height": 441
        },
        "id": "1d30f66b",
        "outputId": "3cb3e3fb-cafb-44ac-e38d-24655666b6ff"
      },
      "outputs": [
        {
          "output_type": "execute_result",
          "data": {
            "text/plain": [
              "                                                 App        Category  Rating  \\\n",
              "0     Photo Editor & Candy Camera & Grid & ScrapBook  ART_AND_DESIGN     4.1   \n",
              "1                                Coloring book moana  ART_AND_DESIGN     3.9   \n",
              "2  U Launcher Lite – FREE Live Cool Themes, Hide ...  ART_AND_DESIGN     4.7   \n",
              "3                              Sketch - Draw & Paint  ART_AND_DESIGN     4.5   \n",
              "4              Pixel Draw - Number Art Coloring Book  ART_AND_DESIGN     4.3   \n",
              "\n",
              "  Reviews  Size     Installs  Type Price Content Rating  \\\n",
              "0     159   19M      10,000+  Free     0       Everyone   \n",
              "1     967   14M     500,000+  Free     0       Everyone   \n",
              "2   87510  8.7M   5,000,000+  Free     0       Everyone   \n",
              "3  215644   25M  50,000,000+  Free     0           Teen   \n",
              "4     967  2.8M     100,000+  Free     0       Everyone   \n",
              "\n",
              "                      Genres Last Updated         Current Ver   Android Ver  \n",
              "0               Art & Design     7-Jan-18               1.0.0  4.0.3 and up  \n",
              "1  Art & Design;Pretend Play    15-Jan-18               2.0.0  4.0.3 and up  \n",
              "2               Art & Design     1-Aug-18               1.2.4  4.0.3 and up  \n",
              "3               Art & Design     8-Jun-18  Varies with device    4.2 and up  \n",
              "4    Art & Design;Creativity    20-Jun-18                 1.1    4.4 and up  "
            ],
            "text/html": [
              "\n",
              "  <div id=\"df-741ea16a-baa1-4595-b898-eb35a90d4f15\">\n",
              "    <div class=\"colab-df-container\">\n",
              "      <div>\n",
              "<style scoped>\n",
              "    .dataframe tbody tr th:only-of-type {\n",
              "        vertical-align: middle;\n",
              "    }\n",
              "\n",
              "    .dataframe tbody tr th {\n",
              "        vertical-align: top;\n",
              "    }\n",
              "\n",
              "    .dataframe thead th {\n",
              "        text-align: right;\n",
              "    }\n",
              "</style>\n",
              "<table border=\"1\" class=\"dataframe\">\n",
              "  <thead>\n",
              "    <tr style=\"text-align: right;\">\n",
              "      <th></th>\n",
              "      <th>App</th>\n",
              "      <th>Category</th>\n",
              "      <th>Rating</th>\n",
              "      <th>Reviews</th>\n",
              "      <th>Size</th>\n",
              "      <th>Installs</th>\n",
              "      <th>Type</th>\n",
              "      <th>Price</th>\n",
              "      <th>Content Rating</th>\n",
              "      <th>Genres</th>\n",
              "      <th>Last Updated</th>\n",
              "      <th>Current Ver</th>\n",
              "      <th>Android Ver</th>\n",
              "    </tr>\n",
              "  </thead>\n",
              "  <tbody>\n",
              "    <tr>\n",
              "      <th>0</th>\n",
              "      <td>Photo Editor &amp; Candy Camera &amp; Grid &amp; ScrapBook</td>\n",
              "      <td>ART_AND_DESIGN</td>\n",
              "      <td>4.1</td>\n",
              "      <td>159</td>\n",
              "      <td>19M</td>\n",
              "      <td>10,000+</td>\n",
              "      <td>Free</td>\n",
              "      <td>0</td>\n",
              "      <td>Everyone</td>\n",
              "      <td>Art &amp; Design</td>\n",
              "      <td>7-Jan-18</td>\n",
              "      <td>1.0.0</td>\n",
              "      <td>4.0.3 and up</td>\n",
              "    </tr>\n",
              "    <tr>\n",
              "      <th>1</th>\n",
              "      <td>Coloring book moana</td>\n",
              "      <td>ART_AND_DESIGN</td>\n",
              "      <td>3.9</td>\n",
              "      <td>967</td>\n",
              "      <td>14M</td>\n",
              "      <td>500,000+</td>\n",
              "      <td>Free</td>\n",
              "      <td>0</td>\n",
              "      <td>Everyone</td>\n",
              "      <td>Art &amp; Design;Pretend Play</td>\n",
              "      <td>15-Jan-18</td>\n",
              "      <td>2.0.0</td>\n",
              "      <td>4.0.3 and up</td>\n",
              "    </tr>\n",
              "    <tr>\n",
              "      <th>2</th>\n",
              "      <td>U Launcher Lite – FREE Live Cool Themes, Hide ...</td>\n",
              "      <td>ART_AND_DESIGN</td>\n",
              "      <td>4.7</td>\n",
              "      <td>87510</td>\n",
              "      <td>8.7M</td>\n",
              "      <td>5,000,000+</td>\n",
              "      <td>Free</td>\n",
              "      <td>0</td>\n",
              "      <td>Everyone</td>\n",
              "      <td>Art &amp; Design</td>\n",
              "      <td>1-Aug-18</td>\n",
              "      <td>1.2.4</td>\n",
              "      <td>4.0.3 and up</td>\n",
              "    </tr>\n",
              "    <tr>\n",
              "      <th>3</th>\n",
              "      <td>Sketch - Draw &amp; Paint</td>\n",
              "      <td>ART_AND_DESIGN</td>\n",
              "      <td>4.5</td>\n",
              "      <td>215644</td>\n",
              "      <td>25M</td>\n",
              "      <td>50,000,000+</td>\n",
              "      <td>Free</td>\n",
              "      <td>0</td>\n",
              "      <td>Teen</td>\n",
              "      <td>Art &amp; Design</td>\n",
              "      <td>8-Jun-18</td>\n",
              "      <td>Varies with device</td>\n",
              "      <td>4.2 and up</td>\n",
              "    </tr>\n",
              "    <tr>\n",
              "      <th>4</th>\n",
              "      <td>Pixel Draw - Number Art Coloring Book</td>\n",
              "      <td>ART_AND_DESIGN</td>\n",
              "      <td>4.3</td>\n",
              "      <td>967</td>\n",
              "      <td>2.8M</td>\n",
              "      <td>100,000+</td>\n",
              "      <td>Free</td>\n",
              "      <td>0</td>\n",
              "      <td>Everyone</td>\n",
              "      <td>Art &amp; Design;Creativity</td>\n",
              "      <td>20-Jun-18</td>\n",
              "      <td>1.1</td>\n",
              "      <td>4.4 and up</td>\n",
              "    </tr>\n",
              "  </tbody>\n",
              "</table>\n",
              "</div>\n",
              "      <button class=\"colab-df-convert\" onclick=\"convertToInteractive('df-741ea16a-baa1-4595-b898-eb35a90d4f15')\"\n",
              "              title=\"Convert this dataframe to an interactive table.\"\n",
              "              style=\"display:none;\">\n",
              "        \n",
              "  <svg xmlns=\"http://www.w3.org/2000/svg\" height=\"24px\"viewBox=\"0 0 24 24\"\n",
              "       width=\"24px\">\n",
              "    <path d=\"M0 0h24v24H0V0z\" fill=\"none\"/>\n",
              "    <path d=\"M18.56 5.44l.94 2.06.94-2.06 2.06-.94-2.06-.94-.94-2.06-.94 2.06-2.06.94zm-11 1L8.5 8.5l.94-2.06 2.06-.94-2.06-.94L8.5 2.5l-.94 2.06-2.06.94zm10 10l.94 2.06.94-2.06 2.06-.94-2.06-.94-.94-2.06-.94 2.06-2.06.94z\"/><path d=\"M17.41 7.96l-1.37-1.37c-.4-.4-.92-.59-1.43-.59-.52 0-1.04.2-1.43.59L10.3 9.45l-7.72 7.72c-.78.78-.78 2.05 0 2.83L4 21.41c.39.39.9.59 1.41.59.51 0 1.02-.2 1.41-.59l7.78-7.78 2.81-2.81c.8-.78.8-2.07 0-2.86zM5.41 20L4 18.59l7.72-7.72 1.47 1.35L5.41 20z\"/>\n",
              "  </svg>\n",
              "      </button>\n",
              "      \n",
              "  <style>\n",
              "    .colab-df-container {\n",
              "      display:flex;\n",
              "      flex-wrap:wrap;\n",
              "      gap: 12px;\n",
              "    }\n",
              "\n",
              "    .colab-df-convert {\n",
              "      background-color: #E8F0FE;\n",
              "      border: none;\n",
              "      border-radius: 50%;\n",
              "      cursor: pointer;\n",
              "      display: none;\n",
              "      fill: #1967D2;\n",
              "      height: 32px;\n",
              "      padding: 0 0 0 0;\n",
              "      width: 32px;\n",
              "    }\n",
              "\n",
              "    .colab-df-convert:hover {\n",
              "      background-color: #E2EBFA;\n",
              "      box-shadow: 0px 1px 2px rgba(60, 64, 67, 0.3), 0px 1px 3px 1px rgba(60, 64, 67, 0.15);\n",
              "      fill: #174EA6;\n",
              "    }\n",
              "\n",
              "    [theme=dark] .colab-df-convert {\n",
              "      background-color: #3B4455;\n",
              "      fill: #D2E3FC;\n",
              "    }\n",
              "\n",
              "    [theme=dark] .colab-df-convert:hover {\n",
              "      background-color: #434B5C;\n",
              "      box-shadow: 0px 1px 3px 1px rgba(0, 0, 0, 0.15);\n",
              "      filter: drop-shadow(0px 1px 2px rgba(0, 0, 0, 0.3));\n",
              "      fill: #FFFFFF;\n",
              "    }\n",
              "  </style>\n",
              "\n",
              "      <script>\n",
              "        const buttonEl =\n",
              "          document.querySelector('#df-741ea16a-baa1-4595-b898-eb35a90d4f15 button.colab-df-convert');\n",
              "        buttonEl.style.display =\n",
              "          google.colab.kernel.accessAllowed ? 'block' : 'none';\n",
              "\n",
              "        async function convertToInteractive(key) {\n",
              "          const element = document.querySelector('#df-741ea16a-baa1-4595-b898-eb35a90d4f15');\n",
              "          const dataTable =\n",
              "            await google.colab.kernel.invokeFunction('convertToInteractive',\n",
              "                                                     [key], {});\n",
              "          if (!dataTable) return;\n",
              "\n",
              "          const docLinkHtml = 'Like what you see? Visit the ' +\n",
              "            '<a target=\"_blank\" href=https://colab.research.google.com/notebooks/data_table.ipynb>data table notebook</a>'\n",
              "            + ' to learn more about interactive tables.';\n",
              "          element.innerHTML = '';\n",
              "          dataTable['output_type'] = 'display_data';\n",
              "          await google.colab.output.renderOutput(dataTable, element);\n",
              "          const docLink = document.createElement('div');\n",
              "          docLink.innerHTML = docLinkHtml;\n",
              "          element.appendChild(docLink);\n",
              "        }\n",
              "      </script>\n",
              "    </div>\n",
              "  </div>\n",
              "  "
            ]
          },
          "metadata": {},
          "execution_count": 5
        }
      ],
      "source": [
        "# displaying the first five columns\n",
        "\n",
        "df.head()"
      ]
    },
    {
      "cell_type": "code",
      "execution_count": 6,
      "id": "250ba0bc",
      "metadata": {
        "colab": {
          "base_uri": "https://localhost:8080/",
          "height": 424
        },
        "id": "250ba0bc",
        "outputId": "d8a6a180-91be-4b8a-cc0f-59a80936ce5c"
      },
      "outputs": [
        {
          "output_type": "execute_result",
          "data": {
            "text/plain": [
              "                                                 App             Category  \\\n",
              "10836                               Sya9a Maroc - FR               FAMILY   \n",
              "10837               Fr. Mike Schmitz Audio Teachings               FAMILY   \n",
              "10838                         Parkinson Exercices FR              MEDICAL   \n",
              "10839                  The SCP Foundation DB fr nn5n  BOOKS_AND_REFERENCE   \n",
              "10840  iHoroscope - 2018 Daily Horoscope & Astrology            LIFESTYLE   \n",
              "\n",
              "       Rating Reviews                Size     Installs  Type Price  \\\n",
              "10836     4.5      38                 53M       5,000+  Free     0   \n",
              "10837     5.0       4                3.6M         100+  Free     0   \n",
              "10838     NaN       3                9.5M       1,000+  Free     0   \n",
              "10839     4.5     114  Varies with device       1,000+  Free     0   \n",
              "10840     4.5  398307                 19M  10,000,000+  Free     0   \n",
              "\n",
              "      Content Rating             Genres Last Updated         Current Ver  \\\n",
              "10836       Everyone          Education    25-Jul-17                1.48   \n",
              "10837       Everyone          Education     6-Jul-18                   1   \n",
              "10838       Everyone            Medical    20-Jan-17                   1   \n",
              "10839     Mature 17+  Books & Reference    19-Jan-15  Varies with device   \n",
              "10840       Everyone          Lifestyle    25-Jul-18  Varies with device   \n",
              "\n",
              "              Android Ver  \n",
              "10836          4.1 and up  \n",
              "10837          4.1 and up  \n",
              "10838          2.2 and up  \n",
              "10839  Varies with device  \n",
              "10840  Varies with device  "
            ],
            "text/html": [
              "\n",
              "  <div id=\"df-280e55b8-e856-497d-b330-bf90ff2a70b8\">\n",
              "    <div class=\"colab-df-container\">\n",
              "      <div>\n",
              "<style scoped>\n",
              "    .dataframe tbody tr th:only-of-type {\n",
              "        vertical-align: middle;\n",
              "    }\n",
              "\n",
              "    .dataframe tbody tr th {\n",
              "        vertical-align: top;\n",
              "    }\n",
              "\n",
              "    .dataframe thead th {\n",
              "        text-align: right;\n",
              "    }\n",
              "</style>\n",
              "<table border=\"1\" class=\"dataframe\">\n",
              "  <thead>\n",
              "    <tr style=\"text-align: right;\">\n",
              "      <th></th>\n",
              "      <th>App</th>\n",
              "      <th>Category</th>\n",
              "      <th>Rating</th>\n",
              "      <th>Reviews</th>\n",
              "      <th>Size</th>\n",
              "      <th>Installs</th>\n",
              "      <th>Type</th>\n",
              "      <th>Price</th>\n",
              "      <th>Content Rating</th>\n",
              "      <th>Genres</th>\n",
              "      <th>Last Updated</th>\n",
              "      <th>Current Ver</th>\n",
              "      <th>Android Ver</th>\n",
              "    </tr>\n",
              "  </thead>\n",
              "  <tbody>\n",
              "    <tr>\n",
              "      <th>10836</th>\n",
              "      <td>Sya9a Maroc - FR</td>\n",
              "      <td>FAMILY</td>\n",
              "      <td>4.5</td>\n",
              "      <td>38</td>\n",
              "      <td>53M</td>\n",
              "      <td>5,000+</td>\n",
              "      <td>Free</td>\n",
              "      <td>0</td>\n",
              "      <td>Everyone</td>\n",
              "      <td>Education</td>\n",
              "      <td>25-Jul-17</td>\n",
              "      <td>1.48</td>\n",
              "      <td>4.1 and up</td>\n",
              "    </tr>\n",
              "    <tr>\n",
              "      <th>10837</th>\n",
              "      <td>Fr. Mike Schmitz Audio Teachings</td>\n",
              "      <td>FAMILY</td>\n",
              "      <td>5.0</td>\n",
              "      <td>4</td>\n",
              "      <td>3.6M</td>\n",
              "      <td>100+</td>\n",
              "      <td>Free</td>\n",
              "      <td>0</td>\n",
              "      <td>Everyone</td>\n",
              "      <td>Education</td>\n",
              "      <td>6-Jul-18</td>\n",
              "      <td>1</td>\n",
              "      <td>4.1 and up</td>\n",
              "    </tr>\n",
              "    <tr>\n",
              "      <th>10838</th>\n",
              "      <td>Parkinson Exercices FR</td>\n",
              "      <td>MEDICAL</td>\n",
              "      <td>NaN</td>\n",
              "      <td>3</td>\n",
              "      <td>9.5M</td>\n",
              "      <td>1,000+</td>\n",
              "      <td>Free</td>\n",
              "      <td>0</td>\n",
              "      <td>Everyone</td>\n",
              "      <td>Medical</td>\n",
              "      <td>20-Jan-17</td>\n",
              "      <td>1</td>\n",
              "      <td>2.2 and up</td>\n",
              "    </tr>\n",
              "    <tr>\n",
              "      <th>10839</th>\n",
              "      <td>The SCP Foundation DB fr nn5n</td>\n",
              "      <td>BOOKS_AND_REFERENCE</td>\n",
              "      <td>4.5</td>\n",
              "      <td>114</td>\n",
              "      <td>Varies with device</td>\n",
              "      <td>1,000+</td>\n",
              "      <td>Free</td>\n",
              "      <td>0</td>\n",
              "      <td>Mature 17+</td>\n",
              "      <td>Books &amp; Reference</td>\n",
              "      <td>19-Jan-15</td>\n",
              "      <td>Varies with device</td>\n",
              "      <td>Varies with device</td>\n",
              "    </tr>\n",
              "    <tr>\n",
              "      <th>10840</th>\n",
              "      <td>iHoroscope - 2018 Daily Horoscope &amp; Astrology</td>\n",
              "      <td>LIFESTYLE</td>\n",
              "      <td>4.5</td>\n",
              "      <td>398307</td>\n",
              "      <td>19M</td>\n",
              "      <td>10,000,000+</td>\n",
              "      <td>Free</td>\n",
              "      <td>0</td>\n",
              "      <td>Everyone</td>\n",
              "      <td>Lifestyle</td>\n",
              "      <td>25-Jul-18</td>\n",
              "      <td>Varies with device</td>\n",
              "      <td>Varies with device</td>\n",
              "    </tr>\n",
              "  </tbody>\n",
              "</table>\n",
              "</div>\n",
              "      <button class=\"colab-df-convert\" onclick=\"convertToInteractive('df-280e55b8-e856-497d-b330-bf90ff2a70b8')\"\n",
              "              title=\"Convert this dataframe to an interactive table.\"\n",
              "              style=\"display:none;\">\n",
              "        \n",
              "  <svg xmlns=\"http://www.w3.org/2000/svg\" height=\"24px\"viewBox=\"0 0 24 24\"\n",
              "       width=\"24px\">\n",
              "    <path d=\"M0 0h24v24H0V0z\" fill=\"none\"/>\n",
              "    <path d=\"M18.56 5.44l.94 2.06.94-2.06 2.06-.94-2.06-.94-.94-2.06-.94 2.06-2.06.94zm-11 1L8.5 8.5l.94-2.06 2.06-.94-2.06-.94L8.5 2.5l-.94 2.06-2.06.94zm10 10l.94 2.06.94-2.06 2.06-.94-2.06-.94-.94-2.06-.94 2.06-2.06.94z\"/><path d=\"M17.41 7.96l-1.37-1.37c-.4-.4-.92-.59-1.43-.59-.52 0-1.04.2-1.43.59L10.3 9.45l-7.72 7.72c-.78.78-.78 2.05 0 2.83L4 21.41c.39.39.9.59 1.41.59.51 0 1.02-.2 1.41-.59l7.78-7.78 2.81-2.81c.8-.78.8-2.07 0-2.86zM5.41 20L4 18.59l7.72-7.72 1.47 1.35L5.41 20z\"/>\n",
              "  </svg>\n",
              "      </button>\n",
              "      \n",
              "  <style>\n",
              "    .colab-df-container {\n",
              "      display:flex;\n",
              "      flex-wrap:wrap;\n",
              "      gap: 12px;\n",
              "    }\n",
              "\n",
              "    .colab-df-convert {\n",
              "      background-color: #E8F0FE;\n",
              "      border: none;\n",
              "      border-radius: 50%;\n",
              "      cursor: pointer;\n",
              "      display: none;\n",
              "      fill: #1967D2;\n",
              "      height: 32px;\n",
              "      padding: 0 0 0 0;\n",
              "      width: 32px;\n",
              "    }\n",
              "\n",
              "    .colab-df-convert:hover {\n",
              "      background-color: #E2EBFA;\n",
              "      box-shadow: 0px 1px 2px rgba(60, 64, 67, 0.3), 0px 1px 3px 1px rgba(60, 64, 67, 0.15);\n",
              "      fill: #174EA6;\n",
              "    }\n",
              "\n",
              "    [theme=dark] .colab-df-convert {\n",
              "      background-color: #3B4455;\n",
              "      fill: #D2E3FC;\n",
              "    }\n",
              "\n",
              "    [theme=dark] .colab-df-convert:hover {\n",
              "      background-color: #434B5C;\n",
              "      box-shadow: 0px 1px 3px 1px rgba(0, 0, 0, 0.15);\n",
              "      filter: drop-shadow(0px 1px 2px rgba(0, 0, 0, 0.3));\n",
              "      fill: #FFFFFF;\n",
              "    }\n",
              "  </style>\n",
              "\n",
              "      <script>\n",
              "        const buttonEl =\n",
              "          document.querySelector('#df-280e55b8-e856-497d-b330-bf90ff2a70b8 button.colab-df-convert');\n",
              "        buttonEl.style.display =\n",
              "          google.colab.kernel.accessAllowed ? 'block' : 'none';\n",
              "\n",
              "        async function convertToInteractive(key) {\n",
              "          const element = document.querySelector('#df-280e55b8-e856-497d-b330-bf90ff2a70b8');\n",
              "          const dataTable =\n",
              "            await google.colab.kernel.invokeFunction('convertToInteractive',\n",
              "                                                     [key], {});\n",
              "          if (!dataTable) return;\n",
              "\n",
              "          const docLinkHtml = 'Like what you see? Visit the ' +\n",
              "            '<a target=\"_blank\" href=https://colab.research.google.com/notebooks/data_table.ipynb>data table notebook</a>'\n",
              "            + ' to learn more about interactive tables.';\n",
              "          element.innerHTML = '';\n",
              "          dataTable['output_type'] = 'display_data';\n",
              "          await google.colab.output.renderOutput(dataTable, element);\n",
              "          const docLink = document.createElement('div');\n",
              "          docLink.innerHTML = docLinkHtml;\n",
              "          element.appendChild(docLink);\n",
              "        }\n",
              "      </script>\n",
              "    </div>\n",
              "  </div>\n",
              "  "
            ]
          },
          "metadata": {},
          "execution_count": 6
        }
      ],
      "source": [
        "# displaying the last five columns\n",
        "\n",
        "df.tail()"
      ]
    },
    {
      "cell_type": "code",
      "execution_count": 7,
      "id": "c3f3900d",
      "metadata": {
        "colab": {
          "base_uri": "https://localhost:8080/"
        },
        "id": "c3f3900d",
        "outputId": "1cc7c15e-83aa-4f0c-a2e3-aa49e3862856"
      },
      "outputs": [
        {
          "output_type": "stream",
          "name": "stdout",
          "text": [
            "<class 'pandas.core.frame.DataFrame'>\n",
            "RangeIndex: 10841 entries, 0 to 10840\n",
            "Data columns (total 13 columns):\n",
            " #   Column          Non-Null Count  Dtype  \n",
            "---  ------          --------------  -----  \n",
            " 0   App             10841 non-null  object \n",
            " 1   Category        10841 non-null  object \n",
            " 2   Rating          9367 non-null   float64\n",
            " 3   Reviews         10841 non-null  object \n",
            " 4   Size            10841 non-null  object \n",
            " 5   Installs        10841 non-null  object \n",
            " 6   Type            10840 non-null  object \n",
            " 7   Price           10841 non-null  object \n",
            " 8   Content Rating  10840 non-null  object \n",
            " 9   Genres          10841 non-null  object \n",
            " 10  Last Updated    10841 non-null  object \n",
            " 11  Current Ver     10833 non-null  object \n",
            " 12  Android Ver     10838 non-null  object \n",
            "dtypes: float64(1), object(12)\n",
            "memory usage: 1.1+ MB\n"
          ]
        }
      ],
      "source": [
        "# displaying the information of the data\n",
        "\n",
        "df.info()"
      ]
    },
    {
      "cell_type": "code",
      "execution_count": 8,
      "id": "8e099588",
      "metadata": {
        "colab": {
          "base_uri": "https://localhost:8080/"
        },
        "id": "8e099588",
        "outputId": "edc6d180-a8e8-4a49-c798-e5d029344b65"
      },
      "outputs": [
        {
          "output_type": "execute_result",
          "data": {
            "text/plain": [
              "(10841, 13)"
            ]
          },
          "metadata": {},
          "execution_count": 8
        }
      ],
      "source": [
        "# displaying the number of rows and columns\n",
        "\n",
        "df.shape"
      ]
    },
    {
      "cell_type": "code",
      "execution_count": 9,
      "id": "57241a31",
      "metadata": {
        "colab": {
          "base_uri": "https://localhost:8080/",
          "height": 300
        },
        "id": "57241a31",
        "outputId": "d06e7b21-8a61-47d1-c5bd-e3002a3420e1"
      },
      "outputs": [
        {
          "output_type": "execute_result",
          "data": {
            "text/plain": [
              "            Rating\n",
              "count  9367.000000\n",
              "mean      4.193338\n",
              "std       0.537431\n",
              "min       1.000000\n",
              "25%       4.000000\n",
              "50%       4.300000\n",
              "75%       4.500000\n",
              "max      19.000000"
            ],
            "text/html": [
              "\n",
              "  <div id=\"df-5b38449d-974a-4222-b147-dda4b2852708\">\n",
              "    <div class=\"colab-df-container\">\n",
              "      <div>\n",
              "<style scoped>\n",
              "    .dataframe tbody tr th:only-of-type {\n",
              "        vertical-align: middle;\n",
              "    }\n",
              "\n",
              "    .dataframe tbody tr th {\n",
              "        vertical-align: top;\n",
              "    }\n",
              "\n",
              "    .dataframe thead th {\n",
              "        text-align: right;\n",
              "    }\n",
              "</style>\n",
              "<table border=\"1\" class=\"dataframe\">\n",
              "  <thead>\n",
              "    <tr style=\"text-align: right;\">\n",
              "      <th></th>\n",
              "      <th>Rating</th>\n",
              "    </tr>\n",
              "  </thead>\n",
              "  <tbody>\n",
              "    <tr>\n",
              "      <th>count</th>\n",
              "      <td>9367.000000</td>\n",
              "    </tr>\n",
              "    <tr>\n",
              "      <th>mean</th>\n",
              "      <td>4.193338</td>\n",
              "    </tr>\n",
              "    <tr>\n",
              "      <th>std</th>\n",
              "      <td>0.537431</td>\n",
              "    </tr>\n",
              "    <tr>\n",
              "      <th>min</th>\n",
              "      <td>1.000000</td>\n",
              "    </tr>\n",
              "    <tr>\n",
              "      <th>25%</th>\n",
              "      <td>4.000000</td>\n",
              "    </tr>\n",
              "    <tr>\n",
              "      <th>50%</th>\n",
              "      <td>4.300000</td>\n",
              "    </tr>\n",
              "    <tr>\n",
              "      <th>75%</th>\n",
              "      <td>4.500000</td>\n",
              "    </tr>\n",
              "    <tr>\n",
              "      <th>max</th>\n",
              "      <td>19.000000</td>\n",
              "    </tr>\n",
              "  </tbody>\n",
              "</table>\n",
              "</div>\n",
              "      <button class=\"colab-df-convert\" onclick=\"convertToInteractive('df-5b38449d-974a-4222-b147-dda4b2852708')\"\n",
              "              title=\"Convert this dataframe to an interactive table.\"\n",
              "              style=\"display:none;\">\n",
              "        \n",
              "  <svg xmlns=\"http://www.w3.org/2000/svg\" height=\"24px\"viewBox=\"0 0 24 24\"\n",
              "       width=\"24px\">\n",
              "    <path d=\"M0 0h24v24H0V0z\" fill=\"none\"/>\n",
              "    <path d=\"M18.56 5.44l.94 2.06.94-2.06 2.06-.94-2.06-.94-.94-2.06-.94 2.06-2.06.94zm-11 1L8.5 8.5l.94-2.06 2.06-.94-2.06-.94L8.5 2.5l-.94 2.06-2.06.94zm10 10l.94 2.06.94-2.06 2.06-.94-2.06-.94-.94-2.06-.94 2.06-2.06.94z\"/><path d=\"M17.41 7.96l-1.37-1.37c-.4-.4-.92-.59-1.43-.59-.52 0-1.04.2-1.43.59L10.3 9.45l-7.72 7.72c-.78.78-.78 2.05 0 2.83L4 21.41c.39.39.9.59 1.41.59.51 0 1.02-.2 1.41-.59l7.78-7.78 2.81-2.81c.8-.78.8-2.07 0-2.86zM5.41 20L4 18.59l7.72-7.72 1.47 1.35L5.41 20z\"/>\n",
              "  </svg>\n",
              "      </button>\n",
              "      \n",
              "  <style>\n",
              "    .colab-df-container {\n",
              "      display:flex;\n",
              "      flex-wrap:wrap;\n",
              "      gap: 12px;\n",
              "    }\n",
              "\n",
              "    .colab-df-convert {\n",
              "      background-color: #E8F0FE;\n",
              "      border: none;\n",
              "      border-radius: 50%;\n",
              "      cursor: pointer;\n",
              "      display: none;\n",
              "      fill: #1967D2;\n",
              "      height: 32px;\n",
              "      padding: 0 0 0 0;\n",
              "      width: 32px;\n",
              "    }\n",
              "\n",
              "    .colab-df-convert:hover {\n",
              "      background-color: #E2EBFA;\n",
              "      box-shadow: 0px 1px 2px rgba(60, 64, 67, 0.3), 0px 1px 3px 1px rgba(60, 64, 67, 0.15);\n",
              "      fill: #174EA6;\n",
              "    }\n",
              "\n",
              "    [theme=dark] .colab-df-convert {\n",
              "      background-color: #3B4455;\n",
              "      fill: #D2E3FC;\n",
              "    }\n",
              "\n",
              "    [theme=dark] .colab-df-convert:hover {\n",
              "      background-color: #434B5C;\n",
              "      box-shadow: 0px 1px 3px 1px rgba(0, 0, 0, 0.15);\n",
              "      filter: drop-shadow(0px 1px 2px rgba(0, 0, 0, 0.3));\n",
              "      fill: #FFFFFF;\n",
              "    }\n",
              "  </style>\n",
              "\n",
              "      <script>\n",
              "        const buttonEl =\n",
              "          document.querySelector('#df-5b38449d-974a-4222-b147-dda4b2852708 button.colab-df-convert');\n",
              "        buttonEl.style.display =\n",
              "          google.colab.kernel.accessAllowed ? 'block' : 'none';\n",
              "\n",
              "        async function convertToInteractive(key) {\n",
              "          const element = document.querySelector('#df-5b38449d-974a-4222-b147-dda4b2852708');\n",
              "          const dataTable =\n",
              "            await google.colab.kernel.invokeFunction('convertToInteractive',\n",
              "                                                     [key], {});\n",
              "          if (!dataTable) return;\n",
              "\n",
              "          const docLinkHtml = 'Like what you see? Visit the ' +\n",
              "            '<a target=\"_blank\" href=https://colab.research.google.com/notebooks/data_table.ipynb>data table notebook</a>'\n",
              "            + ' to learn more about interactive tables.';\n",
              "          element.innerHTML = '';\n",
              "          dataTable['output_type'] = 'display_data';\n",
              "          await google.colab.output.renderOutput(dataTable, element);\n",
              "          const docLink = document.createElement('div');\n",
              "          docLink.innerHTML = docLinkHtml;\n",
              "          element.appendChild(docLink);\n",
              "        }\n",
              "      </script>\n",
              "    </div>\n",
              "  </div>\n",
              "  "
            ]
          },
          "metadata": {},
          "execution_count": 9
        }
      ],
      "source": [
        "# describing the statistical summary of the data\n",
        "\n",
        "df.describe()"
      ]
    },
    {
      "cell_type": "code",
      "execution_count": 10,
      "id": "b64c5aca",
      "metadata": {
        "colab": {
          "base_uri": "https://localhost:8080/"
        },
        "id": "b64c5aca",
        "outputId": "4610cfea-2cd3-44d9-f6ef-d753b9721809"
      },
      "outputs": [
        {
          "output_type": "execute_result",
          "data": {
            "text/plain": [
              "App                  0\n",
              "Category             0\n",
              "Rating            1474\n",
              "Reviews              0\n",
              "Size                 0\n",
              "Installs             0\n",
              "Type                 1\n",
              "Price                0\n",
              "Content Rating       1\n",
              "Genres               0\n",
              "Last Updated         0\n",
              "Current Ver          8\n",
              "Android Ver          3\n",
              "dtype: int64"
            ]
          },
          "metadata": {},
          "execution_count": 10
        }
      ],
      "source": [
        "# checking the null values in each column\n",
        "df.isnull().sum()"
      ]
    },
    {
      "cell_type": "code",
      "execution_count": 11,
      "id": "6932c7d0",
      "metadata": {
        "colab": {
          "base_uri": "https://localhost:8080/",
          "height": 330
        },
        "id": "6932c7d0",
        "outputId": "c38cb1f9-989e-436c-9b19-932c0f965fe5"
      },
      "outputs": [
        {
          "output_type": "display_data",
          "data": {
            "text/plain": [
              "<Figure size 432x288 with 1 Axes>"
            ],
            "image/png": "[encoded data removed]"
          },
          "metadata": {
            "needs_background": "light"
          }
        }
      ],
      "source": [
        "# checking the null values in a graphical representation\n",
        "\n",
        "df.isnull().sum().plot.bar()\n",
        "plt.show()"
      ]
    },
    {
      "cell_type": "markdown",
      "id": "32d23271",
      "metadata": {
        "id": "32d23271"
      },
      "source": [
        "DATA CLEANING"
      ]
    },
    {
      "cell_type": "markdown",
      "id": "57b2a5a2",
      "metadata": {
        "id": "57b2a5a2"
      },
      "source": [
        "Since there is only one missing value in Type column, So, let’s fill the missing value. \n",
        "After cross-checking in the play store the missing value is found to be Free \n",
        "So now we can fill the missing value with free"
      ]
    },
    {
      "cell_type": "code",
      "execution_count": 12,
      "id": "547af3a5",
      "metadata": {
        "id": "547af3a5"
      },
      "outputs": [],
      "source": [
        "df['Type'].fillna(\"Free\", inplace = True)"
      ]
    },
    {
      "cell_type": "code",
      "execution_count": 13,
      "id": "68743937",
      "metadata": {
        "colab": {
          "base_uri": "https://localhost:8080/"
        },
        "id": "68743937",
        "outputId": "7d13398d-e4b8-4643-e60e-b7e064ed9f65"
      },
      "outputs": [
        {
          "output_type": "execute_result",
          "data": {
            "text/plain": [
              "App                  0\n",
              "Category             0\n",
              "Rating            1474\n",
              "Reviews              0\n",
              "Size                 0\n",
              "Installs             0\n",
              "Type                 0\n",
              "Price                0\n",
              "Content Rating       1\n",
              "Genres               0\n",
              "Last Updated         0\n",
              "Current Ver          8\n",
              "Android Ver          3\n",
              "dtype: int64"
            ]
          },
          "metadata": {},
          "execution_count": 13
        }
      ],
      "source": [
        "df.isnull().sum()"
      ]
    },
    {
      "cell_type": "markdown",
      "id": "b20fb980",
      "metadata": {
        "id": "b20fb980"
      },
      "source": [
        "Now, we can move on to the column Content Rating"
      ]
    },
    {
      "cell_type": "code",
      "execution_count": 14,
      "id": "12e94b22",
      "metadata": {
        "colab": {
          "base_uri": "https://localhost:8080/",
          "height": 159
        },
        "id": "12e94b22",
        "outputId": "376072ec-b7bb-4cd4-e29b-01e0095f9ecf"
      },
      "outputs": [
        {
          "output_type": "execute_result",
          "data": {
            "text/plain": [
              "                                           App Category  Rating Reviews  \\\n",
              "10472  Life Made WI-Fi Touchscreen Photo Frame      1.9    19.0    3.0M   \n",
              "\n",
              "         Size Installs Type     Price Content Rating     Genres Last Updated  \\\n",
              "10472  1,000+     Free    0  Everyone            NaN  11-Feb-18       1.0.19   \n",
              "\n",
              "      Current Ver Android Ver  \n",
              "10472  4.0 and up         NaN  "
            ],
            "text/html": [
              "\n",
              "  <div id=\"df-a71b3dc2-17c6-4c9f-bfa5-a7fbc6e0e2f7\">\n",
              "    <div class=\"colab-df-container\">\n",
              "      <div>\n",
              "<style scoped>\n",
              "    .dataframe tbody tr th:only-of-type {\n",
              "        vertical-align: middle;\n",
              "    }\n",
              "\n",
              "    .dataframe tbody tr th {\n",
              "        vertical-align: top;\n",
              "    }\n",
              "\n",
              "    .dataframe thead th {\n",
              "        text-align: right;\n",
              "    }\n",
              "</style>\n",
              "<table border=\"1\" class=\"dataframe\">\n",
              "  <thead>\n",
              "    <tr style=\"text-align: right;\">\n",
              "      <th></th>\n",
              "      <th>App</th>\n",
              "      <th>Category</th>\n",
              "      <th>Rating</th>\n",
              "      <th>Reviews</th>\n",
              "      <th>Size</th>\n",
              "      <th>Installs</th>\n",
              "      <th>Type</th>\n",
              "      <th>Price</th>\n",
              "      <th>Content Rating</th>\n",
              "      <th>Genres</th>\n",
              "      <th>Last Updated</th>\n",
              "      <th>Current Ver</th>\n",
              "      <th>Android Ver</th>\n",
              "    </tr>\n",
              "  </thead>\n",
              "  <tbody>\n",
              "    <tr>\n",
              "      <th>10472</th>\n",
              "      <td>Life Made WI-Fi Touchscreen Photo Frame</td>\n",
              "      <td>1.9</td>\n",
              "      <td>19.0</td>\n",
              "      <td>3.0M</td>\n",
              "      <td>1,000+</td>\n",
              "      <td>Free</td>\n",
              "      <td>0</td>\n",
              "      <td>Everyone</td>\n",
              "      <td>NaN</td>\n",
              "      <td>11-Feb-18</td>\n",
              "      <td>1.0.19</td>\n",
              "      <td>4.0 and up</td>\n",
              "      <td>NaN</td>\n",
              "    </tr>\n",
              "  </tbody>\n",
              "</table>\n",
              "</div>\n",
              "      <button class=\"colab-df-convert\" onclick=\"convertToInteractive('df-a71b3dc2-17c6-4c9f-bfa5-a7fbc6e0e2f7')\"\n",
              "              title=\"Convert this dataframe to an interactive table.\"\n",
              "              style=\"display:none;\">\n",
              "        \n",
              "  <svg xmlns=\"http://www.w3.org/2000/svg\" height=\"24px\"viewBox=\"0 0 24 24\"\n",
              "       width=\"24px\">\n",
              "    <path d=\"M0 0h24v24H0V0z\" fill=\"none\"/>\n",
              "    <path d=\"M18.56 5.44l.94 2.06.94-2.06 2.06-.94-2.06-.94-.94-2.06-.94 2.06-2.06.94zm-11 1L8.5 8.5l.94-2.06 2.06-.94-2.06-.94L8.5 2.5l-.94 2.06-2.06.94zm10 10l.94 2.06.94-2.06 2.06-.94-2.06-.94-.94-2.06-.94 2.06-2.06.94z\"/><path d=\"M17.41 7.96l-1.37-1.37c-.4-.4-.92-.59-1.43-.59-.52 0-1.04.2-1.43.59L10.3 9.45l-7.72 7.72c-.78.78-.78 2.05 0 2.83L4 21.41c.39.39.9.59 1.41.59.51 0 1.02-.2 1.41-.59l7.78-7.78 2.81-2.81c.8-.78.8-2.07 0-2.86zM5.41 20L4 18.59l7.72-7.72 1.47 1.35L5.41 20z\"/>\n",
              "  </svg>\n",
              "      </button>\n",
              "      \n",
              "  <style>\n",
              "    .colab-df-container {\n",
              "      display:flex;\n",
              "      flex-wrap:wrap;\n",
              "      gap: 12px;\n",
              "    }\n",
              "\n",
              "    .colab-df-convert {\n",
              "      background-color: #E8F0FE;\n",
              "      border: none;\n",
              "      border-radius: 50%;\n",
              "      cursor: pointer;\n",
              "      display: none;\n",
              "      fill: #1967D2;\n",
              "      height: 32px;\n",
              "      padding: 0 0 0 0;\n",
              "      width: 32px;\n",
              "    }\n",
              "\n",
              "    .colab-df-convert:hover {\n",
              "      background-color: #E2EBFA;\n",
              "      box-shadow: 0px 1px 2px rgba(60, 64, 67, 0.3), 0px 1px 3px 1px rgba(60, 64, 67, 0.15);\n",
              "      fill: #174EA6;\n",
              "    }\n",
              "\n",
              "    [theme=dark] .colab-df-convert {\n",
              "      background-color: #3B4455;\n",
              "      fill: #D2E3FC;\n",
              "    }\n",
              "\n",
              "    [theme=dark] .colab-df-convert:hover {\n",
              "      background-color: #434B5C;\n",
              "      box-shadow: 0px 1px 3px 1px rgba(0, 0, 0, 0.15);\n",
              "      filter: drop-shadow(0px 1px 2px rgba(0, 0, 0, 0.3));\n",
              "      fill: #FFFFFF;\n",
              "    }\n",
              "  </style>\n",
              "\n",
              "      <script>\n",
              "        const buttonEl =\n",
              "          document.querySelector('#df-a71b3dc2-17c6-4c9f-bfa5-a7fbc6e0e2f7 button.colab-df-convert');\n",
              "        buttonEl.style.display =\n",
              "          google.colab.kernel.accessAllowed ? 'block' : 'none';\n",
              "\n",
              "        async function convertToInteractive(key) {\n",
              "          const element = document.querySelector('#df-a71b3dc2-17c6-4c9f-bfa5-a7fbc6e0e2f7');\n",
              "          const dataTable =\n",
              "            await google.colab.kernel.invokeFunction('convertToInteractive',\n",
              "                                                     [key], {});\n",
              "          if (!dataTable) return;\n",
              "\n",
              "          const docLinkHtml = 'Like what you see? Visit the ' +\n",
              "            '<a target=\"_blank\" href=https://colab.research.google.com/notebooks/data_table.ipynb>data table notebook</a>'\n",
              "            + ' to learn more about interactive tables.';\n",
              "          element.innerHTML = '';\n",
              "          dataTable['output_type'] = 'display_data';\n",
              "          await google.colab.output.renderOutput(dataTable, element);\n",
              "          const docLink = document.createElement('div');\n",
              "          docLink.innerHTML = docLinkHtml;\n",
              "          element.appendChild(docLink);\n",
              "        }\n",
              "      </script>\n",
              "    </div>\n",
              "  </div>\n",
              "  "
            ]
          },
          "metadata": {},
          "execution_count": 14
        }
      ],
      "source": [
        "df[df['Content Rating'].isnull()]\n"
      ]
    },
    {
      "cell_type": "markdown",
      "id": "98aae61a",
      "metadata": {
        "id": "98aae61a"
      },
      "source": [
        "By, looking only at these rows it is not easy to say what's actually missing in this row. \n",
        "let us have a look at all of its near rows data. For this purpose, we have iloc and loc function."
      ]
    },
    {
      "cell_type": "code",
      "execution_count": 15,
      "id": "3a0214ae",
      "metadata": {
        "colab": {
          "base_uri": "https://localhost:8080/",
          "height": 615
        },
        "id": "3a0214ae",
        "outputId": "0ace5df9-041b-43db-a2a4-1d182b08e4de"
      },
      "outputs": [
        {
          "output_type": "execute_result",
          "data": {
            "text/plain": [
              "                                           App         Category  Rating  \\\n",
              "10468                         Tassa.fi Finland        LIFESTYLE     3.6   \n",
              "10469              TownWiFi | Wi-Fi Everywhere    COMMUNICATION     3.9   \n",
              "10470                               Jazz Wi-Fi    COMMUNICATION     3.4   \n",
              "10471                         Xposed Wi-Fi-Pwd  PERSONALIZATION     3.5   \n",
              "10472  Life Made WI-Fi Touchscreen Photo Frame              1.9    19.0   \n",
              "10473                  osmino Wi-Fi: free WiFi            TOOLS     4.2   \n",
              "10474                             Sat-Fi Voice    COMMUNICATION     3.4   \n",
              "10475                         Wi-Fi Visualizer            TOOLS     3.9   \n",
              "10476                    Lennox iComfort Wi-Fi        LIFESTYLE     3.0   \n",
              "10477              Sci-Fi Sounds and Ringtones  PERSONALIZATION     3.6   \n",
              "\n",
              "      Reviews    Size     Installs  Type     Price Content Rating  \\\n",
              "10468     346    7.5M      50,000+  Free         0       Everyone   \n",
              "10469    2372     58M     500,000+  Free         0       Everyone   \n",
              "10470      49    4.0M      10,000+  Free         0       Everyone   \n",
              "10471    1042    404k     100,000+  Free         0       Everyone   \n",
              "10472    3.0M  1,000+         Free     0  Everyone            NaN   \n",
              "10473  134203    4.1M  10,000,000+  Free         0       Everyone   \n",
              "10474      37     14M       1,000+  Free         0       Everyone   \n",
              "10475     132    2.6M      50,000+  Free         0       Everyone   \n",
              "10476     552    7.6M      50,000+  Free         0       Everyone   \n",
              "10477     128     11M      10,000+  Free         0       Everyone   \n",
              "\n",
              "                Genres Last Updated Current Ver   Android Ver  \n",
              "10468        Lifestyle    22-May-18         5.5    4.0 and up  \n",
              "10469    Communication     2-Aug-18       4.2.1    4.2 and up  \n",
              "10470    Communication    10-Feb-17         0.1    2.3 and up  \n",
              "10471  Personalization     5-Aug-14       3.0.0  4.0.3 and up  \n",
              "10472        11-Feb-18       1.0.19  4.0 and up           NaN  \n",
              "10473            Tools     7-Aug-18     6.06.14    4.4 and up  \n",
              "10474    Communication    21-Nov-14     2.2.1.5    2.2 and up  \n",
              "10475            Tools    17-May-17       0.0.9    2.3 and up  \n",
              "10476        Lifestyle    22-Mar-17      2.0.15  2.3.3 and up  \n",
              "10477  Personalization    27-Sep-17           4    4.0 and up  "
            ],
            "text/html": [
              "\n",
              "  <div id=\"df-f8b02d32-791b-48af-9825-c11de0684844\">\n",
              "    <div class=\"colab-df-container\">\n",
              "      <div>\n",
              "<style scoped>\n",
              "    .dataframe tbody tr th:only-of-type {\n",
              "        vertical-align: middle;\n",
              "    }\n",
              "\n",
              "    .dataframe tbody tr th {\n",
              "        vertical-align: top;\n",
              "    }\n",
              "\n",
              "    .dataframe thead th {\n",
              "        text-align: right;\n",
              "    }\n",
              "</style>\n",
              "<table border=\"1\" class=\"dataframe\">\n",
              "  <thead>\n",
              "    <tr style=\"text-align: right;\">\n",
              "      <th></th>\n",
              "      <th>App</th>\n",
              "      <th>Category</th>\n",
              "      <th>Rating</th>\n",
              "      <th>Reviews</th>\n",
              "      <th>Size</th>\n",
              "      <th>Installs</th>\n",
              "      <th>Type</th>\n",
              "      <th>Price</th>\n",
              "      <th>Content Rating</th>\n",
              "      <th>Genres</th>\n",
              "      <th>Last Updated</th>\n",
              "      <th>Current Ver</th>\n",
              "      <th>Android Ver</th>\n",
              "    </tr>\n",
              "  </thead>\n",
              "  <tbody>\n",
              "    <tr>\n",
              "      <th>10468</th>\n",
              "      <td>Tassa.fi Finland</td>\n",
              "      <td>LIFESTYLE</td>\n",
              "      <td>3.6</td>\n",
              "      <td>346</td>\n",
              "      <td>7.5M</td>\n",
              "      <td>50,000+</td>\n",
              "      <td>Free</td>\n",
              "      <td>0</td>\n",
              "      <td>Everyone</td>\n",
              "      <td>Lifestyle</td>\n",
              "      <td>22-May-18</td>\n",
              "      <td>5.5</td>\n",
              "      <td>4.0 and up</td>\n",
              "    </tr>\n",
              "    <tr>\n",
              "      <th>10469</th>\n",
              "      <td>TownWiFi | Wi-Fi Everywhere</td>\n",
              "      <td>COMMUNICATION</td>\n",
              "      <td>3.9</td>\n",
              "      <td>2372</td>\n",
              "      <td>58M</td>\n",
              "      <td>500,000+</td>\n",
              "      <td>Free</td>\n",
              "      <td>0</td>\n",
              "      <td>Everyone</td>\n",
              "      <td>Communication</td>\n",
              "      <td>2-Aug-18</td>\n",
              "      <td>4.2.1</td>\n",
              "      <td>4.2 and up</td>\n",
              "    </tr>\n",
              "    <tr>\n",
              "      <th>10470</th>\n",
              "      <td>Jazz Wi-Fi</td>\n",
              "      <td>COMMUNICATION</td>\n",
              "      <td>3.4</td>\n",
              "      <td>49</td>\n",
              "      <td>4.0M</td>\n",
              "      <td>10,000+</td>\n",
              "      <td>Free</td>\n",
              "      <td>0</td>\n",
              "      <td>Everyone</td>\n",
              "      <td>Communication</td>\n",
              "      <td>10-Feb-17</td>\n",
              "      <td>0.1</td>\n",
              "      <td>2.3 and up</td>\n",
              "    </tr>\n",
              "    <tr>\n",
              "      <th>10471</th>\n",
              "      <td>Xposed Wi-Fi-Pwd</td>\n",
              "      <td>PERSONALIZATION</td>\n",
              "      <td>3.5</td>\n",
              "      <td>1042</td>\n",
              "      <td>404k</td>\n",
              "      <td>100,000+</td>\n",
              "      <td>Free</td>\n",
              "      <td>0</td>\n",
              "      <td>Everyone</td>\n",
              "      <td>Personalization</td>\n",
              "      <td>5-Aug-14</td>\n",
              "      <td>3.0.0</td>\n",
              "      <td>4.0.3 and up</td>\n",
              "    </tr>\n",
              "    <tr>\n",
              "      <th>10472</th>\n",
              "      <td>Life Made WI-Fi Touchscreen Photo Frame</td>\n",
              "      <td>1.9</td>\n",
              "      <td>19.0</td>\n",
              "      <td>3.0M</td>\n",
              "      <td>1,000+</td>\n",
              "      <td>Free</td>\n",
              "      <td>0</td>\n",
              "      <td>Everyone</td>\n",
              "      <td>NaN</td>\n",
              "      <td>11-Feb-18</td>\n",
              "      <td>1.0.19</td>\n",
              "      <td>4.0 and up</td>\n",
              "      <td>NaN</td>\n",
              "    </tr>\n",
              "    <tr>\n",
              "      <th>10473</th>\n",
              "      <td>osmino Wi-Fi: free WiFi</td>\n",
              "      <td>TOOLS</td>\n",
              "      <td>4.2</td>\n",
              "      <td>134203</td>\n",
              "      <td>4.1M</td>\n",
              "      <td>10,000,000+</td>\n",
              "      <td>Free</td>\n",
              "      <td>0</td>\n",
              "      <td>Everyone</td>\n",
              "      <td>Tools</td>\n",
              "      <td>7-Aug-18</td>\n",
              "      <td>6.06.14</td>\n",
              "      <td>4.4 and up</td>\n",
              "    </tr>\n",
              "    <tr>\n",
              "      <th>10474</th>\n",
              "      <td>Sat-Fi Voice</td>\n",
              "      <td>COMMUNICATION</td>\n",
              "      <td>3.4</td>\n",
              "      <td>37</td>\n",
              "      <td>14M</td>\n",
              "      <td>1,000+</td>\n",
              "      <td>Free</td>\n",
              "      <td>0</td>\n",
              "      <td>Everyone</td>\n",
              "      <td>Communication</td>\n",
              "      <td>21-Nov-14</td>\n",
              "      <td>2.2.1.5</td>\n",
              "      <td>2.2 and up</td>\n",
              "    </tr>\n",
              "    <tr>\n",
              "      <th>10475</th>\n",
              "      <td>Wi-Fi Visualizer</td>\n",
              "      <td>TOOLS</td>\n",
              "      <td>3.9</td>\n",
              "      <td>132</td>\n",
              "      <td>2.6M</td>\n",
              "      <td>50,000+</td>\n",
              "      <td>Free</td>\n",
              "      <td>0</td>\n",
              "      <td>Everyone</td>\n",
              "      <td>Tools</td>\n",
              "      <td>17-May-17</td>\n",
              "      <td>0.0.9</td>\n",
              "      <td>2.3 and up</td>\n",
              "    </tr>\n",
              "    <tr>\n",
              "      <th>10476</th>\n",
              "      <td>Lennox iComfort Wi-Fi</td>\n",
              "      <td>LIFESTYLE</td>\n",
              "      <td>3.0</td>\n",
              "      <td>552</td>\n",
              "      <td>7.6M</td>\n",
              "      <td>50,000+</td>\n",
              "      <td>Free</td>\n",
              "      <td>0</td>\n",
              "      <td>Everyone</td>\n",
              "      <td>Lifestyle</td>\n",
              "      <td>22-Mar-17</td>\n",
              "      <td>2.0.15</td>\n",
              "      <td>2.3.3 and up</td>\n",
              "    </tr>\n",
              "    <tr>\n",
              "      <th>10477</th>\n",
              "      <td>Sci-Fi Sounds and Ringtones</td>\n",
              "      <td>PERSONALIZATION</td>\n",
              "      <td>3.6</td>\n",
              "      <td>128</td>\n",
              "      <td>11M</td>\n",
              "      <td>10,000+</td>\n",
              "      <td>Free</td>\n",
              "      <td>0</td>\n",
              "      <td>Everyone</td>\n",
              "      <td>Personalization</td>\n",
              "      <td>27-Sep-17</td>\n",
              "      <td>4</td>\n",
              "      <td>4.0 and up</td>\n",
              "    </tr>\n",
              "  </tbody>\n",
              "</table>\n",
              "</div>\n",
              "      <button class=\"colab-df-convert\" onclick=\"convertToInteractive('df-f8b02d32-791b-48af-9825-c11de0684844')\"\n",
              "              title=\"Convert this dataframe to an interactive table.\"\n",
              "              style=\"display:none;\">\n",
              "        \n",
              "  <svg xmlns=\"http://www.w3.org/2000/svg\" height=\"24px\"viewBox=\"0 0 24 24\"\n",
              "       width=\"24px\">\n",
              "    <path d=\"M0 0h24v24H0V0z\" fill=\"none\"/>\n",
              "    <path d=\"M18.56 5.44l.94 2.06.94-2.06 2.06-.94-2.06-.94-.94-2.06-.94 2.06-2.06.94zm-11 1L8.5 8.5l.94-2.06 2.06-.94-2.06-.94L8.5 2.5l-.94 2.06-2.06.94zm10 10l.94 2.06.94-2.06 2.06-.94-2.06-.94-.94-2.06-.94 2.06-2.06.94z\"/><path d=\"M17.41 7.96l-1.37-1.37c-.4-.4-.92-.59-1.43-.59-.52 0-1.04.2-1.43.59L10.3 9.45l-7.72 7.72c-.78.78-.78 2.05 0 2.83L4 21.41c.39.39.9.59 1.41.59.51 0 1.02-.2 1.41-.59l7.78-7.78 2.81-2.81c.8-.78.8-2.07 0-2.86zM5.41 20L4 18.59l7.72-7.72 1.47 1.35L5.41 20z\"/>\n",
              "  </svg>\n",
              "      </button>\n",
              "      \n",
              "  <style>\n",
              "    .colab-df-container {\n",
              "      display:flex;\n",
              "      flex-wrap:wrap;\n",
              "      gap: 12px;\n",
              "    }\n",
              "\n",
              "    .colab-df-convert {\n",
              "      background-color: #E8F0FE;\n",
              "      border: none;\n",
              "      border-radius: 50%;\n",
              "      cursor: pointer;\n",
              "      display: none;\n",
              "      fill: #1967D2;\n",
              "      height: 32px;\n",
              "      padding: 0 0 0 0;\n",
              "      width: 32px;\n",
              "    }\n",
              "\n",
              "    .colab-df-convert:hover {\n",
              "      background-color: #E2EBFA;\n",
              "      box-shadow: 0px 1px 2px rgba(60, 64, 67, 0.3), 0px 1px 3px 1px rgba(60, 64, 67, 0.15);\n",
              "      fill: #174EA6;\n",
              "    }\n",
              "\n",
              "    [theme=dark] .colab-df-convert {\n",
              "      background-color: #3B4455;\n",
              "      fill: #D2E3FC;\n",
              "    }\n",
              "\n",
              "    [theme=dark] .colab-df-convert:hover {\n",
              "      background-color: #434B5C;\n",
              "      box-shadow: 0px 1px 3px 1px rgba(0, 0, 0, 0.15);\n",
              "      filter: drop-shadow(0px 1px 2px rgba(0, 0, 0, 0.3));\n",
              "      fill: #FFFFFF;\n",
              "    }\n",
              "  </style>\n",
              "\n",
              "      <script>\n",
              "        const buttonEl =\n",
              "          document.querySelector('#df-f8b02d32-791b-48af-9825-c11de0684844 button.colab-df-convert');\n",
              "        buttonEl.style.display =\n",
              "          google.colab.kernel.accessAllowed ? 'block' : 'none';\n",
              "\n",
              "        async function convertToInteractive(key) {\n",
              "          const element = document.querySelector('#df-f8b02d32-791b-48af-9825-c11de0684844');\n",
              "          const dataTable =\n",
              "            await google.colab.kernel.invokeFunction('convertToInteractive',\n",
              "                                                     [key], {});\n",
              "          if (!dataTable) return;\n",
              "\n",
              "          const docLinkHtml = 'Like what you see? Visit the ' +\n",
              "            '<a target=\"_blank\" href=https://colab.research.google.com/notebooks/data_table.ipynb>data table notebook</a>'\n",
              "            + ' to learn more about interactive tables.';\n",
              "          element.innerHTML = '';\n",
              "          dataTable['output_type'] = 'display_data';\n",
              "          await google.colab.output.renderOutput(dataTable, element);\n",
              "          const docLink = document.createElement('div');\n",
              "          docLink.innerHTML = docLinkHtml;\n",
              "          element.appendChild(docLink);\n",
              "        }\n",
              "      </script>\n",
              "    </div>\n",
              "  </div>\n",
              "  "
            ]
          },
          "metadata": {},
          "execution_count": 15
        }
      ],
      "source": [
        "df.loc[10468:10477, :]\n"
      ]
    },
    {
      "cell_type": "markdown",
      "id": "cb3ef594",
      "metadata": {
        "id": "cb3ef594"
      },
      "source": [
        "We can clearly see that row 10472 has missing data for the Categorycolumn and \n",
        "all the prevailing column values are being replaced with its previous column. \n",
        "A better idea will be to drop this row from our data frame.\n",
        "\n"
      ]
    },
    {
      "cell_type": "code",
      "execution_count": 16,
      "id": "11e5bb91",
      "metadata": {
        "id": "11e5bb91"
      },
      "outputs": [],
      "source": [
        "df.dropna(subset = ['Content Rating'], inplace=True)\n"
      ]
    },
    {
      "cell_type": "markdown",
      "id": "b122c5a1",
      "metadata": {
        "id": "b122c5a1"
      },
      "source": [
        "We are having some of the unwanted columns which will be of not much use in the analysis process. So let’s drop those columns."
      ]
    },
    {
      "cell_type": "code",
      "execution_count": 17,
      "id": "070de955",
      "metadata": {
        "id": "070de955"
      },
      "outputs": [],
      "source": [
        "df.drop(['Current Ver','Last Updated', 'Android Ver'], axis=1, inplace=True)\n"
      ]
    },
    {
      "cell_type": "markdown",
      "id": "f7f32b45",
      "metadata": {
        "id": "f7f32b45"
      },
      "source": [
        "Now, we can fix the Rating column which contains a total of 1474 of missing values. Replacing the missing values with the Modevalue of that entire column."
      ]
    },
    {
      "cell_type": "code",
      "execution_count": 18,
      "id": "a7145c12",
      "metadata": {
        "id": "a7145c12"
      },
      "outputs": [],
      "source": [
        "modeValueRating = df['Rating'].mode()\n"
      ]
    },
    {
      "cell_type": "code",
      "execution_count": 19,
      "id": "8860729b",
      "metadata": {
        "id": "8860729b"
      },
      "outputs": [],
      "source": [
        "df['Rating'].fillna(value=modeValueRating[0], inplace = True)\n"
      ]
    },
    {
      "cell_type": "markdown",
      "id": "4d1df0ca",
      "metadata": {
        "id": "4d1df0ca"
      },
      "source": [
        "Finally, after fixing all the missing values, we should have a look at our data frame, We defined a function as printinfo().\n",
        "So, it’s time to use that function."
      ]
    },
    {
      "cell_type": "code",
      "execution_count": 20,
      "id": "245142a0",
      "metadata": {
        "colab": {
          "base_uri": "https://localhost:8080/"
        },
        "id": "245142a0",
        "outputId": "6b97c5e9-2793-463c-b6bc-ec1a0546a9c9"
      },
      "outputs": [
        {
          "output_type": "execute_result",
          "data": {
            "text/plain": [
              "App               0\n",
              "Category          0\n",
              "Rating            0\n",
              "Reviews           0\n",
              "Size              0\n",
              "Installs          0\n",
              "Type              0\n",
              "Price             0\n",
              "Content Rating    0\n",
              "Genres            0\n",
              "dtype: int64"
            ]
          },
          "metadata": {},
          "execution_count": 20
        }
      ],
      "source": [
        "df.isnull().sum()"
      ]
    },
    {
      "cell_type": "markdown",
      "id": "da651822",
      "metadata": {
        "id": "da651822"
      },
      "source": [
        "All the columns have the null_count as zero, which indicates that now the data frame doesn’t contain any missing values."
      ]
    },
    {
      "cell_type": "code",
      "execution_count": 21,
      "id": "2e73f669",
      "metadata": {
        "scrolled": true,
        "colab": {
          "base_uri": "https://localhost:8080/"
        },
        "id": "2e73f669",
        "outputId": "a87767d6-a57a-498c-cc80-b61baa22f1cf"
      },
      "outputs": [
        {
          "output_type": "stream",
          "name": "stdout",
          "text": [
            "<class 'pandas.core.frame.DataFrame'>\n",
            "Int64Index: 10840 entries, 0 to 10840\n",
            "Data columns (total 10 columns):\n",
            " #   Column          Non-Null Count  Dtype  \n",
            "---  ------          --------------  -----  \n",
            " 0   App             10840 non-null  object \n",
            " 1   Category        10840 non-null  object \n",
            " 2   Rating          10840 non-null  float64\n",
            " 3   Reviews         10840 non-null  object \n",
            " 4   Size            10840 non-null  object \n",
            " 5   Installs        10840 non-null  object \n",
            " 6   Type            10840 non-null  object \n",
            " 7   Price           10840 non-null  object \n",
            " 8   Content Rating  10840 non-null  object \n",
            " 9   Genres          10840 non-null  object \n",
            "dtypes: float64(1), object(9)\n",
            "memory usage: 931.6+ KB\n"
          ]
        }
      ],
      "source": [
        "df.info()"
      ]
    },
    {
      "cell_type": "markdown",
      "id": "41d31200",
      "metadata": {
        "id": "41d31200"
      },
      "source": [
        "Starting with the column Reviews , converting its type to int ."
      ]
    },
    {
      "cell_type": "code",
      "execution_count": 22,
      "id": "e6cd86d7",
      "metadata": {
        "id": "e6cd86d7"
      },
      "outputs": [],
      "source": [
        "df['Reviews'] = df.Reviews.astype(int)\n"
      ]
    },
    {
      "cell_type": "markdown",
      "id": "1815496b",
      "metadata": {
        "id": "1815496b"
      },
      "source": [
        "Now, the reviews column has been converted to int type, so now we can move to the Column: Size\n",
        "Converting the Size Column from object to integer, but this column contains some of the special characters like , , + , M , K & also it has a some of the value as Varies with device . We need to remove all of these and then convert it to int or float .\n"
      ]
    },
    {
      "cell_type": "markdown",
      "id": "aeb3c72b",
      "metadata": {
        "id": "aeb3c72b"
      },
      "source": [
        "Removing the +Symbol:"
      ]
    },
    {
      "cell_type": "code",
      "execution_count": 23,
      "id": "b100ca75",
      "metadata": {
        "id": "b100ca75"
      },
      "outputs": [],
      "source": [
        "df['Size'] = df.Size.apply(lambda x: x.strip('+'))"
      ]
    },
    {
      "cell_type": "markdown",
      "id": "c9e94fb5",
      "metadata": {
        "id": "c9e94fb5"
      },
      "source": [
        "Removing the , symbol:"
      ]
    },
    {
      "cell_type": "code",
      "execution_count": 24,
      "id": "376c71d8",
      "metadata": {
        "id": "376c71d8"
      },
      "outputs": [],
      "source": [
        "df['Size'] =  df.Size.apply(lambda x: x.replace(',', ''))"
      ]
    },
    {
      "cell_type": "markdown",
      "id": "978e3920",
      "metadata": {
        "id": "978e3920"
      },
      "source": [
        "Replacing the M symbol by multiplying the value with 1000000:"
      ]
    },
    {
      "cell_type": "code",
      "execution_count": 25,
      "id": "f779e8a6",
      "metadata": {
        "id": "f779e8a6"
      },
      "outputs": [],
      "source": [
        "df['Size'] = df.Size.apply(lambda x: x.replace('M', 'e+6'))\n"
      ]
    },
    {
      "cell_type": "markdown",
      "id": "65a68a6b",
      "metadata": {
        "id": "65a68a6b"
      },
      "source": [
        "Replacing the k by multiplying the value with 1000:"
      ]
    },
    {
      "cell_type": "code",
      "execution_count": 26,
      "id": "9ae053fa",
      "metadata": {
        "id": "9ae053fa"
      },
      "outputs": [],
      "source": [
        "df['Size'] = df.Size.apply(lambda x: x.replace('k', 'e+3'))"
      ]
    },
    {
      "cell_type": "markdown",
      "id": "5265b546",
      "metadata": {
        "id": "5265b546"
      },
      "source": [
        "Replacing the Varies with device value with Nan :"
      ]
    },
    {
      "cell_type": "code",
      "execution_count": 27,
      "id": "a9c03f67",
      "metadata": {
        "id": "a9c03f67"
      },
      "outputs": [],
      "source": [
        "df['Size'] = df.Size.replace('Varies with device', np.NaN)\n"
      ]
    },
    {
      "cell_type": "markdown",
      "id": "25efb8b1",
      "metadata": {
        "id": "25efb8b1"
      },
      "source": [
        "Now, finally converting all these values to numeric type:"
      ]
    },
    {
      "cell_type": "code",
      "execution_count": 28,
      "id": "6ff8102d",
      "metadata": {
        "id": "6ff8102d"
      },
      "outputs": [],
      "source": [
        "df['Size'] = pd.to_numeric(df['Size'])"
      ]
    },
    {
      "cell_type": "markdown",
      "id": "97b247c2",
      "metadata": {
        "id": "97b247c2"
      },
      "source": [
        "So, after performing all of these operations, we should have a detailed look at that column, \n",
        "so yes again we will call our useful function which we defined."
      ]
    },
    {
      "cell_type": "code",
      "execution_count": 29,
      "id": "4849d3b0",
      "metadata": {
        "colab": {
          "base_uri": "https://localhost:8080/"
        },
        "id": "4849d3b0",
        "outputId": "b3d78fc6-7eb7-4ee0-e0e0-ab8fb94874f0"
      },
      "outputs": [
        {
          "output_type": "stream",
          "name": "stdout",
          "text": [
            "<class 'pandas.core.frame.DataFrame'>\n",
            "Int64Index: 10840 entries, 0 to 10840\n",
            "Data columns (total 10 columns):\n",
            " #   Column          Non-Null Count  Dtype  \n",
            "---  ------          --------------  -----  \n",
            " 0   App             10840 non-null  object \n",
            " 1   Category        10840 non-null  object \n",
            " 2   Rating          10840 non-null  float64\n",
            " 3   Reviews         10840 non-null  int64  \n",
            " 4   Size            9145 non-null   float64\n",
            " 5   Installs        10840 non-null  object \n",
            " 6   Type            10840 non-null  object \n",
            " 7   Price           10840 non-null  object \n",
            " 8   Content Rating  10840 non-null  object \n",
            " 9   Genres          10840 non-null  object \n",
            "dtypes: float64(2), int64(1), object(7)\n",
            "memory usage: 931.6+ KB\n"
          ]
        }
      ],
      "source": [
        "df.info()"
      ]
    },
    {
      "cell_type": "markdown",
      "id": "7d9b5a4b",
      "metadata": {
        "id": "7d9b5a4b"
      },
      "source": [
        "Since we converted the Varies with device value to Nan , so we have to do something with those set of Nan values data. It will be a better idea to drop the Rows of the column Size having Nanvalues because it will be not an efficient idea to replace those values with mean or mode since the size of some apps would be too large and some of them too small.\n",
        "\n"
      ]
    },
    {
      "cell_type": "code",
      "execution_count": 30,
      "id": "6e41965d",
      "metadata": {
        "id": "6e41965d"
      },
      "outputs": [],
      "source": [
        "df.dropna(subset = ['Size'], inplace=True)\n"
      ]
    },
    {
      "cell_type": "markdown",
      "id": "66d4e57b",
      "metadata": {
        "id": "66d4e57b"
      },
      "source": [
        "Column: Installs :\n",
        "To convert this column from object to integer type. First of all, we will need to remove the +symbol from these values."
      ]
    },
    {
      "cell_type": "code",
      "execution_count": 31,
      "id": "f6dcafb5",
      "metadata": {
        "id": "f6dcafb5"
      },
      "outputs": [],
      "source": [
        "df['Installs'] = df.Installs.apply(lambda x: x.strip('+'))"
      ]
    },
    {
      "cell_type": "markdown",
      "id": "14cdc114",
      "metadata": {
        "id": "14cdc114"
      },
      "source": [
        "and then let’s remove the , symbol from the numbers."
      ]
    },
    {
      "cell_type": "code",
      "execution_count": 32,
      "id": "79d52c33",
      "metadata": {
        "id": "79d52c33"
      },
      "outputs": [],
      "source": [
        "df['Installs'] = df.Installs.apply(lambda x: x.replace(',', ''))"
      ]
    },
    {
      "cell_type": "markdown",
      "id": "3badcf68",
      "metadata": {
        "id": "3badcf68"
      },
      "source": [
        "Lastly, we can now convert it from string type to numeric type, and then have a look at our dataset."
      ]
    },
    {
      "cell_type": "code",
      "execution_count": 33,
      "id": "f191b19c",
      "metadata": {
        "id": "f191b19c"
      },
      "outputs": [],
      "source": [
        "df['Installs'] = pd.to_numeric(df['Installs'])\n"
      ]
    },
    {
      "cell_type": "code",
      "execution_count": 34,
      "id": "5f1723a9",
      "metadata": {
        "colab": {
          "base_uri": "https://localhost:8080/"
        },
        "id": "5f1723a9",
        "outputId": "ac2ad2d0-ccbf-4eb2-83e9-a8ec7451e952"
      },
      "outputs": [
        {
          "output_type": "stream",
          "name": "stdout",
          "text": [
            "<class 'pandas.core.frame.DataFrame'>\n",
            "Int64Index: 9145 entries, 0 to 10840\n",
            "Data columns (total 10 columns):\n",
            " #   Column          Non-Null Count  Dtype  \n",
            "---  ------          --------------  -----  \n",
            " 0   App             9145 non-null   object \n",
            " 1   Category        9145 non-null   object \n",
            " 2   Rating          9145 non-null   float64\n",
            " 3   Reviews         9145 non-null   int64  \n",
            " 4   Size            9145 non-null   float64\n",
            " 5   Installs        9145 non-null   int64  \n",
            " 6   Type            9145 non-null   object \n",
            " 7   Price           9145 non-null   object \n",
            " 8   Content Rating  9145 non-null   object \n",
            " 9   Genres          9145 non-null   object \n",
            "dtypes: float64(2), int64(2), object(6)\n",
            "memory usage: 785.9+ KB\n"
          ]
        }
      ],
      "source": [
        "df.info()"
      ]
    },
    {
      "cell_type": "markdown",
      "id": "f3b2e56f",
      "metadata": {
        "id": "f3b2e56f"
      },
      "source": [
        "So, now we are only left with the Price column.\n",
        "Column: Price :\n",
        "Converting this column from object to Numeric type."
      ]
    },
    {
      "cell_type": "code",
      "execution_count": 35,
      "id": "84a89af9",
      "metadata": {
        "colab": {
          "base_uri": "https://localhost:8080/"
        },
        "id": "84a89af9",
        "outputId": "add538f9-458d-4253-c58c-e1bd981b9ec3"
      },
      "outputs": [
        {
          "output_type": "execute_result",
          "data": {
            "text/plain": [
              "0           8421\n",
              "$0.99        145\n",
              "$2.99        114\n",
              "$1.99         66\n",
              "$4.99         65\n",
              "            ... \n",
              "$389.99        1\n",
              "$19.90         1\n",
              "$1.75          1\n",
              "$14.00         1\n",
              "$1.04          1\n",
              "Name: Price, Length: 87, dtype: int64"
            ]
          },
          "metadata": {},
          "execution_count": 35
        }
      ],
      "source": [
        "df['Price'].value_counts()\n"
      ]
    },
    {
      "cell_type": "markdown",
      "id": "84718e3c",
      "metadata": {
        "id": "84718e3c"
      },
      "source": [
        "The values contain a special symbol $ which can be removed and then converted to the numeric type."
      ]
    },
    {
      "cell_type": "code",
      "execution_count": 36,
      "id": "4cee121a",
      "metadata": {
        "id": "4cee121a"
      },
      "outputs": [],
      "source": [
        "df['Price'] = df.Price.apply(lambda x: x.strip('$'))"
      ]
    },
    {
      "cell_type": "code",
      "execution_count": 37,
      "id": "e7cca28c",
      "metadata": {
        "id": "e7cca28c"
      },
      "outputs": [],
      "source": [
        "df['Price'] = pd.to_numeric(df['Price'])"
      ]
    },
    {
      "cell_type": "code",
      "execution_count": 38,
      "id": "b16e1b87",
      "metadata": {
        "colab": {
          "base_uri": "https://localhost:8080/"
        },
        "id": "b16e1b87",
        "outputId": "60772fbc-8d31-4b2e-a263-0a30107d7609"
      },
      "outputs": [
        {
          "output_type": "stream",
          "name": "stdout",
          "text": [
            "<class 'pandas.core.frame.DataFrame'>\n",
            "Int64Index: 9145 entries, 0 to 10840\n",
            "Data columns (total 10 columns):\n",
            " #   Column          Non-Null Count  Dtype  \n",
            "---  ------          --------------  -----  \n",
            " 0   App             9145 non-null   object \n",
            " 1   Category        9145 non-null   object \n",
            " 2   Rating          9145 non-null   float64\n",
            " 3   Reviews         9145 non-null   int64  \n",
            " 4   Size            9145 non-null   float64\n",
            " 5   Installs        9145 non-null   int64  \n",
            " 6   Type            9145 non-null   object \n",
            " 7   Price           9145 non-null   float64\n",
            " 8   Content Rating  9145 non-null   object \n",
            " 9   Genres          9145 non-null   object \n",
            "dtypes: float64(3), int64(2), object(5)\n",
            "memory usage: 785.9+ KB\n"
          ]
        }
      ],
      "source": [
        "df.info()"
      ]
    },
    {
      "cell_type": "markdown",
      "id": "0a1c890e",
      "metadata": {
        "id": "0a1c890e"
      },
      "source": [
        "Now, we are finally done. In this section Data Preparation and Cleaning. We can see that the original dataset contained 10841 Rows and 13 Columns. It contained App, Category, Rating, Reviews, Size, Installs, Type, Price, Content Rating, Genres, Last Updated, Curernt Ver, and Android VerColumns. But after cleansing the dataset and dropping the unwanted rows and columns having Null Values and Garbage data from the data frame, we are left with 8434 Rows and 10 Columns."
      ]
    },
    {
      "cell_type": "markdown",
      "id": "58327d37",
      "metadata": {
        "id": "58327d37"
      },
      "source": [
        "## UNIVARIATE ANALYSIS"
      ]
    },
    {
      "cell_type": "markdown",
      "id": "5b5b6281",
      "metadata": {
        "id": "5b5b6281"
      },
      "source": [
        "Top categories on Google Playstore?\n",
        "Category "
      ]
    },
    {
      "cell_type": "code",
      "execution_count": 39,
      "id": "0cae7db7",
      "metadata": {
        "colab": {
          "base_uri": "https://localhost:8080/"
        },
        "id": "0cae7db7",
        "outputId": "5cd71264-cd18-4cd4-b1da-64ca1ad0b4a9"
      },
      "outputs": [
        {
          "output_type": "execute_result",
          "data": {
            "text/plain": [
              "FAMILY                 1832\n",
              "GAME                   1015\n",
              "TOOLS                   739\n",
              "MEDICAL                 434\n",
              "BUSINESS                400\n",
              "PERSONALIZATION         355\n",
              "LIFESTYLE               345\n",
              "SPORTS                  311\n",
              "FINANCE                 307\n",
              "PRODUCTIVITY            303\n",
              "COMMUNICATION           265\n",
              "HEALTH_AND_FITNESS      264\n",
              "PHOTOGRAPHY             254\n",
              "NEWS_AND_MAGAZINES      216\n",
              "DATING                  212\n",
              "SOCIAL                  210\n",
              "SHOPPING                201\n",
              "BOOKS_AND_REFERENCE     197\n",
              "TRAVEL_AND_LOCAL        192\n",
              "VIDEO_PLAYERS           131\n",
              "EDUCATION               111\n",
              "MAPS_AND_NAVIGATION     108\n",
              "FOOD_AND_DRINK          100\n",
              "ENTERTAINMENT            90\n",
              "LIBRARIES_AND_DEMO       82\n",
              "AUTO_AND_VEHICLES        75\n",
              "HOUSE_AND_HOME           68\n",
              "ART_AND_DESIGN           62\n",
              "EVENTS                   57\n",
              "WEATHER                  57\n",
              "PARENTING                54\n",
              "COMICS                   51\n",
              "BEAUTY                   47\n",
              "Name: Category, dtype: int64"
            ]
          },
          "metadata": {},
          "execution_count": 39
        }
      ],
      "source": [
        "# Category value counts\n",
        "df.Category.value_counts()"
      ]
    },
    {
      "cell_type": "code",
      "execution_count": 40,
      "id": "1ab5cee5",
      "metadata": {
        "colab": {
          "base_uri": "https://localhost:8080/"
        },
        "id": "1ab5cee5",
        "outputId": "a1c1f9b6-2551-414b-aa22-116abe8e7f1d"
      },
      "outputs": [
        {
          "output_type": "execute_result",
          "data": {
            "text/plain": [
              "FAMILY                 0.200328\n",
              "GAME                   0.110990\n",
              "TOOLS                  0.080809\n",
              "MEDICAL                0.047458\n",
              "BUSINESS               0.043740\n",
              "PERSONALIZATION        0.038819\n",
              "LIFESTYLE              0.037726\n",
              "SPORTS                 0.034008\n",
              "FINANCE                0.033570\n",
              "PRODUCTIVITY           0.033133\n",
              "COMMUNICATION          0.028978\n",
              "HEALTH_AND_FITNESS     0.028868\n",
              "PHOTOGRAPHY            0.027775\n",
              "NEWS_AND_MAGAZINES     0.023619\n",
              "DATING                 0.023182\n",
              "SOCIAL                 0.022963\n",
              "SHOPPING               0.021979\n",
              "BOOKS_AND_REFERENCE    0.021542\n",
              "TRAVEL_AND_LOCAL       0.020995\n",
              "VIDEO_PLAYERS          0.014325\n",
              "EDUCATION              0.012138\n",
              "MAPS_AND_NAVIGATION    0.011810\n",
              "FOOD_AND_DRINK         0.010935\n",
              "ENTERTAINMENT          0.009841\n",
              "LIBRARIES_AND_DEMO     0.008967\n",
              "AUTO_AND_VEHICLES      0.008201\n",
              "HOUSE_AND_HOME         0.007436\n",
              "ART_AND_DESIGN         0.006780\n",
              "EVENTS                 0.006233\n",
              "WEATHER                0.006233\n",
              "PARENTING              0.005905\n",
              "COMICS                 0.005577\n",
              "BEAUTY                 0.005139\n",
              "Name: Category, dtype: float64"
            ]
          },
          "metadata": {},
          "execution_count": 40
        }
      ],
      "source": [
        "# percentages of Category value counts\n",
        "df.Category.value_counts(normalize=True)"
      ]
    },
    {
      "cell_type": "code",
      "execution_count": 41,
      "id": "6aacdc80",
      "metadata": {
        "colab": {
          "base_uri": "https://localhost:8080/",
          "height": 483
        },
        "id": "6aacdc80",
        "outputId": "4dfa3234-4611-43ed-ef53-b0d4092b1f15"
      },
      "outputs": [
        {
          "output_type": "display_data",
          "data": {
            "text/plain": [
              "<Figure size 720x576 with 1 Axes>"
            ],
            "image/png": "[encoded data removed]"
          },
          "metadata": {
            "needs_background": "light"
          }
        }
      ],
      "source": [
        "# bar graph representation of Category value counts\n",
        "\n",
        "plt.figure(figsize=(10,8))\n",
        "\n",
        "df.Category.value_counts(normalize=True).plot.barh()\n",
        "plt.show()"
      ]
    },
    {
      "cell_type": "markdown",
      "id": "21ae0026",
      "metadata": {
        "id": "21ae0026"
      },
      "source": [
        "So there are all total of 33 categories in the dataset from the above output we can come to the conclusion that in the play store most of the apps are under Family & Game category and least are of Beauty & Comics Category."
      ]
    },
    {
      "cell_type": "code",
      "execution_count": 41,
      "id": "38602dd7",
      "metadata": {
        "id": "38602dd7"
      },
      "outputs": [],
      "source": []
    },
    {
      "cell_type": "code",
      "execution_count": 41,
      "id": "6ce01d19",
      "metadata": {
        "id": "6ce01d19"
      },
      "outputs": [],
      "source": []
    },
    {
      "cell_type": "markdown",
      "id": "9511f7e0",
      "metadata": {
        "id": "9511f7e0"
      },
      "source": [
        "*Top content rating category on Google Playstore?*\n",
        "Rating\n"
      ]
    },
    {
      "cell_type": "code",
      "execution_count": 42,
      "id": "e3120ac4",
      "metadata": {
        "colab": {
          "base_uri": "https://localhost:8080/"
        },
        "id": "e3120ac4",
        "outputId": "6f8d8945-89e1-4c0d-f922-5c9c937e60ed"
      },
      "outputs": [
        {
          "output_type": "execute_result",
          "data": {
            "text/plain": [
              "Everyone           7416\n",
              "Teen                987\n",
              "Mature 17+          406\n",
              "Everyone 10+        332\n",
              "Adults only 18+       2\n",
              "Unrated               2\n",
              "Name: Content Rating, dtype: int64"
            ]
          },
          "metadata": {},
          "execution_count": 42
        }
      ],
      "source": [
        "# Content Rating value counts\n",
        "df[\"Content Rating\"].value_counts()"
      ]
    },
    {
      "cell_type": "code",
      "execution_count": 43,
      "id": "2a42e403",
      "metadata": {
        "colab": {
          "base_uri": "https://localhost:8080/"
        },
        "id": "2a42e403",
        "outputId": "dab09353-0567-4ca9-de52-9c0597cec179"
      },
      "outputs": [
        {
          "output_type": "execute_result",
          "data": {
            "text/plain": [
              "Everyone           0.810935\n",
              "Teen               0.107928\n",
              "Mature 17+         0.044396\n",
              "Everyone 10+       0.036304\n",
              "Adults only 18+    0.000219\n",
              "Unrated            0.000219\n",
              "Name: Content Rating, dtype: float64"
            ]
          },
          "metadata": {},
          "execution_count": 43
        }
      ],
      "source": [
        "# percentages of Content Rating value counts\n",
        "df[\"Content Rating\"].value_counts(normalize=True)"
      ]
    },
    {
      "cell_type": "code",
      "execution_count": 44,
      "id": "e82ef2ca",
      "metadata": {
        "colab": {
          "base_uri": "https://localhost:8080/",
          "height": 265
        },
        "id": "e82ef2ca",
        "outputId": "01c898aa-10dc-48da-ac61-f39224f557e6"
      },
      "outputs": [
        {
          "output_type": "display_data",
          "data": {
            "text/plain": [
              "<Figure size 432x288 with 1 Axes>"
            ],
            "image/png": "[encoded data removed]"
          },
          "metadata": {
            "needs_background": "light"
          }
        }
      ],
      "source": [
        "# bar graph representation of Category value counts\n",
        "\n",
        "\n",
        "df[\"Content Rating\"].value_counts(normalize=True).plot.barh()\n",
        "plt.show()"
      ]
    },
    {
      "cell_type": "markdown",
      "id": "fe4f92b9",
      "metadata": {
        "id": "fe4f92b9"
      },
      "source": [
        "From the above plot, we can see that the Everyone category of Apps from the ‘Content Rating’ column is found more on the play store."
      ]
    },
    {
      "cell_type": "code",
      "execution_count": 44,
      "id": "37628b33",
      "metadata": {
        "id": "37628b33"
      },
      "outputs": [],
      "source": []
    },
    {
      "cell_type": "markdown",
      "id": "ef0f4d19",
      "metadata": {
        "id": "ef0f4d19"
      },
      "source": [
        "Distribution of ratings on Google Playstore?*\n"
      ]
    },
    {
      "cell_type": "code",
      "execution_count": 45,
      "id": "e195ebf6",
      "metadata": {
        "colab": {
          "base_uri": "https://localhost:8080/",
          "height": 300
        },
        "id": "e195ebf6",
        "outputId": "ff2b9eba-cb47-4f40-d81d-b00861dc9e11"
      },
      "outputs": [
        {
          "output_type": "display_data",
          "data": {
            "text/plain": [
              "<Figure size 432x288 with 1 Axes>"
            ],
            "image/png": "[encoded data removed]"
          },
          "metadata": {
            "needs_background": "light"
          }
        }
      ],
      "source": [
        "\n",
        "plt.xlabel(\"Rating\")\n",
        "plt.ylabel(\"Frequency\")\n",
        "graph = sns.kdeplot(df.Rating, color=\"Blue\", shade = True)\n",
        "plt.title('Distribution of Rating',size = 20);"
      ]
    },
    {
      "cell_type": "markdown",
      "id": "5c911386",
      "metadata": {
        "id": "5c911386"
      },
      "source": [
        "From the above graph, we can come to the conclusion that most of the apps in the google play store are rated between 3.5 to 4.8."
      ]
    },
    {
      "cell_type": "code",
      "execution_count": 45,
      "id": "3a7073cd",
      "metadata": {
        "id": "3a7073cd"
      },
      "outputs": [],
      "source": []
    },
    {
      "cell_type": "markdown",
      "id": "0be1203a",
      "metadata": {
        "id": "0be1203a"
      },
      "source": [
        "The portion of the apps in the play store are paid and free.\n",
        "Type"
      ]
    },
    {
      "cell_type": "code",
      "execution_count": 46,
      "id": "52228e7e",
      "metadata": {
        "colab": {
          "base_uri": "https://localhost:8080/",
          "height": 248
        },
        "id": "52228e7e",
        "outputId": "0d7da4c9-2dca-4a65-ca87-b96d05488bf7"
      },
      "outputs": [
        {
          "output_type": "display_data",
          "data": {
            "text/plain": [
              "<Figure size 432x288 with 1 Axes>"
            ],
            "image/png": "[encoded data removed]"
          },
          "metadata": {}
        }
      ],
      "source": [
        "df.Type.value_counts(normalize=True).plot.pie(autopct='%1.1f%%')\n",
        "plt.show()"
      ]
    },
    {
      "cell_type": "markdown",
      "id": "f4670cab",
      "metadata": {
        "id": "f4670cab"
      },
      "source": [
        "From the above graph, we can see that 92%(Approx.) of apps in the google play store are free and 8%(Approx.) are paid."
      ]
    },
    {
      "cell_type": "code",
      "execution_count": 46,
      "id": "9c4b6e17",
      "metadata": {
        "id": "9c4b6e17"
      },
      "outputs": [],
      "source": []
    },
    {
      "cell_type": "code",
      "execution_count": 46,
      "id": "95e7765b",
      "metadata": {
        "id": "95e7765b"
      },
      "outputs": [],
      "source": []
    },
    {
      "cell_type": "markdown",
      "id": "cb564d6a",
      "metadata": {
        "id": "cb564d6a"
      },
      "source": [
        "Price"
      ]
    },
    {
      "cell_type": "code",
      "execution_count": 47,
      "id": "8a178b2f",
      "metadata": {
        "colab": {
          "base_uri": "https://localhost:8080/",
          "height": 206
        },
        "id": "8a178b2f",
        "outputId": "7e58f72d-c492-49a5-d3cb-b09498d6545b"
      },
      "outputs": [
        {
          "output_type": "execute_result",
          "data": {
            "text/plain": [
              "                           App   Category  Rating  Reviews        Size  \\\n",
              "4367  I'm Rich - Trump Edition  LIFESTYLE     3.6      275   7300000.0   \n",
              "5354            I am Rich Plus     FAMILY     4.0      856   8700000.0   \n",
              "5358                I am Rich!    FINANCE     3.8       93  22000000.0   \n",
              "5369                 I am Rich    FINANCE     4.3      180   3800000.0   \n",
              "5373        I AM RICH PRO PLUS    FINANCE     4.0       36  41000000.0   \n",
              "\n",
              "      Installs  Type   Price Content Rating         Genres  \n",
              "4367     10000  Paid  400.00       Everyone      Lifestyle  \n",
              "5354     10000  Paid  399.99       Everyone  Entertainment  \n",
              "5358      1000  Paid  399.99       Everyone        Finance  \n",
              "5369      5000  Paid  399.99       Everyone        Finance  \n",
              "5373      1000  Paid  399.99       Everyone        Finance  "
            ],
            "text/html": [
              "\n",
              "  <div id=\"df-06bb495a-5415-471b-937e-6e89ea9a76ea\">\n",
              "    <div class=\"colab-df-container\">\n",
              "      <div>\n",
              "<style scoped>\n",
              "    .dataframe tbody tr th:only-of-type {\n",
              "        vertical-align: middle;\n",
              "    }\n",
              "\n",
              "    .dataframe tbody tr th {\n",
              "        vertical-align: top;\n",
              "    }\n",
              "\n",
              "    .dataframe thead th {\n",
              "        text-align: right;\n",
              "    }\n",
              "</style>\n",
              "<table border=\"1\" class=\"dataframe\">\n",
              "  <thead>\n",
              "    <tr style=\"text-align: right;\">\n",
              "      <th></th>\n",
              "      <th>App</th>\n",
              "      <th>Category</th>\n",
              "      <th>Rating</th>\n",
              "      <th>Reviews</th>\n",
              "      <th>Size</th>\n",
              "      <th>Installs</th>\n",
              "      <th>Type</th>\n",
              "      <th>Price</th>\n",
              "      <th>Content Rating</th>\n",
              "      <th>Genres</th>\n",
              "    </tr>\n",
              "  </thead>\n",
              "  <tbody>\n",
              "    <tr>\n",
              "      <th>4367</th>\n",
              "      <td>I'm Rich - Trump Edition</td>\n",
              "      <td>LIFESTYLE</td>\n",
              "      <td>3.6</td>\n",
              "      <td>275</td>\n",
              "      <td>7300000.0</td>\n",
              "      <td>10000</td>\n",
              "      <td>Paid</td>\n",
              "      <td>400.00</td>\n",
              "      <td>Everyone</td>\n",
              "      <td>Lifestyle</td>\n",
              "    </tr>\n",
              "    <tr>\n",
              "      <th>5354</th>\n",
              "      <td>I am Rich Plus</td>\n",
              "      <td>FAMILY</td>\n",
              "      <td>4.0</td>\n",
              "      <td>856</td>\n",
              "      <td>8700000.0</td>\n",
              "      <td>10000</td>\n",
              "      <td>Paid</td>\n",
              "      <td>399.99</td>\n",
              "      <td>Everyone</td>\n",
              "      <td>Entertainment</td>\n",
              "    </tr>\n",
              "    <tr>\n",
              "      <th>5358</th>\n",
              "      <td>I am Rich!</td>\n",
              "      <td>FINANCE</td>\n",
              "      <td>3.8</td>\n",
              "      <td>93</td>\n",
              "      <td>22000000.0</td>\n",
              "      <td>1000</td>\n",
              "      <td>Paid</td>\n",
              "      <td>399.99</td>\n",
              "      <td>Everyone</td>\n",
              "      <td>Finance</td>\n",
              "    </tr>\n",
              "    <tr>\n",
              "      <th>5369</th>\n",
              "      <td>I am Rich</td>\n",
              "      <td>FINANCE</td>\n",
              "      <td>4.3</td>\n",
              "      <td>180</td>\n",
              "      <td>3800000.0</td>\n",
              "      <td>5000</td>\n",
              "      <td>Paid</td>\n",
              "      <td>399.99</td>\n",
              "      <td>Everyone</td>\n",
              "      <td>Finance</td>\n",
              "    </tr>\n",
              "    <tr>\n",
              "      <th>5373</th>\n",
              "      <td>I AM RICH PRO PLUS</td>\n",
              "      <td>FINANCE</td>\n",
              "      <td>4.0</td>\n",
              "      <td>36</td>\n",
              "      <td>41000000.0</td>\n",
              "      <td>1000</td>\n",
              "      <td>Paid</td>\n",
              "      <td>399.99</td>\n",
              "      <td>Everyone</td>\n",
              "      <td>Finance</td>\n",
              "    </tr>\n",
              "  </tbody>\n",
              "</table>\n",
              "</div>\n",
              "      <button class=\"colab-df-convert\" onclick=\"convertToInteractive('df-06bb495a-5415-471b-937e-6e89ea9a76ea')\"\n",
              "              title=\"Convert this dataframe to an interactive table.\"\n",
              "              style=\"display:none;\">\n",
              "        \n",
              "  <svg xmlns=\"http://www.w3.org/2000/svg\" height=\"24px\"viewBox=\"0 0 24 24\"\n",
              "       width=\"24px\">\n",
              "    <path d=\"M0 0h24v24H0V0z\" fill=\"none\"/>\n",
              "    <path d=\"M18.56 5.44l.94 2.06.94-2.06 2.06-.94-2.06-.94-.94-2.06-.94 2.06-2.06.94zm-11 1L8.5 8.5l.94-2.06 2.06-.94-2.06-.94L8.5 2.5l-.94 2.06-2.06.94zm10 10l.94 2.06.94-2.06 2.06-.94-2.06-.94-.94-2.06-.94 2.06-2.06.94z\"/><path d=\"M17.41 7.96l-1.37-1.37c-.4-.4-.92-.59-1.43-.59-.52 0-1.04.2-1.43.59L10.3 9.45l-7.72 7.72c-.78.78-.78 2.05 0 2.83L4 21.41c.39.39.9.59 1.41.59.51 0 1.02-.2 1.41-.59l7.78-7.78 2.81-2.81c.8-.78.8-2.07 0-2.86zM5.41 20L4 18.59l7.72-7.72 1.47 1.35L5.41 20z\"/>\n",
              "  </svg>\n",
              "      </button>\n",
              "      \n",
              "  <style>\n",
              "    .colab-df-container {\n",
              "      display:flex;\n",
              "      flex-wrap:wrap;\n",
              "      gap: 12px;\n",
              "    }\n",
              "\n",
              "    .colab-df-convert {\n",
              "      background-color: #E8F0FE;\n",
              "      border: none;\n",
              "      border-radius: 50%;\n",
              "      cursor: pointer;\n",
              "      display: none;\n",
              "      fill: #1967D2;\n",
              "      height: 32px;\n",
              "      padding: 0 0 0 0;\n",
              "      width: 32px;\n",
              "    }\n",
              "\n",
              "    .colab-df-convert:hover {\n",
              "      background-color: #E2EBFA;\n",
              "      box-shadow: 0px 1px 2px rgba(60, 64, 67, 0.3), 0px 1px 3px 1px rgba(60, 64, 67, 0.15);\n",
              "      fill: #174EA6;\n",
              "    }\n",
              "\n",
              "    [theme=dark] .colab-df-convert {\n",
              "      background-color: #3B4455;\n",
              "      fill: #D2E3FC;\n",
              "    }\n",
              "\n",
              "    [theme=dark] .colab-df-convert:hover {\n",
              "      background-color: #434B5C;\n",
              "      box-shadow: 0px 1px 3px 1px rgba(0, 0, 0, 0.15);\n",
              "      filter: drop-shadow(0px 1px 2px rgba(0, 0, 0, 0.3));\n",
              "      fill: #FFFFFF;\n",
              "    }\n",
              "  </style>\n",
              "\n",
              "      <script>\n",
              "        const buttonEl =\n",
              "          document.querySelector('#df-06bb495a-5415-471b-937e-6e89ea9a76ea button.colab-df-convert');\n",
              "        buttonEl.style.display =\n",
              "          google.colab.kernel.accessAllowed ? 'block' : 'none';\n",
              "\n",
              "        async function convertToInteractive(key) {\n",
              "          const element = document.querySelector('#df-06bb495a-5415-471b-937e-6e89ea9a76ea');\n",
              "          const dataTable =\n",
              "            await google.colab.kernel.invokeFunction('convertToInteractive',\n",
              "                                                     [key], {});\n",
              "          if (!dataTable) return;\n",
              "\n",
              "          const docLinkHtml = 'Like what you see? Visit the ' +\n",
              "            '<a target=\"_blank\" href=https://colab.research.google.com/notebooks/data_table.ipynb>data table notebook</a>'\n",
              "            + ' to learn more about interactive tables.';\n",
              "          element.innerHTML = '';\n",
              "          dataTable['output_type'] = 'display_data';\n",
              "          await google.colab.output.renderOutput(dataTable, element);\n",
              "          const docLink = document.createElement('div');\n",
              "          docLink.innerHTML = docLinkHtml;\n",
              "          element.appendChild(docLink);\n",
              "        }\n",
              "      </script>\n",
              "    </div>\n",
              "  </div>\n",
              "  "
            ]
          },
          "metadata": {},
          "execution_count": 47
        }
      ],
      "source": [
        "demo = df.sort_values(by=['Price'], ascending=False)\n",
        "abc = demo.head(5)\n",
        "abc\n"
      ]
    },
    {
      "cell_type": "code",
      "execution_count": 47,
      "id": "0fcddb6f",
      "metadata": {
        "id": "0fcddb6f"
      },
      "outputs": [],
      "source": []
    },
    {
      "cell_type": "code",
      "execution_count": 48,
      "id": "e9ce2346",
      "metadata": {
        "colab": {
          "base_uri": "https://localhost:8080/",
          "height": 265
        },
        "id": "e9ce2346",
        "outputId": "89436361-110e-4b7f-d2de-15b7ddb4de1e"
      },
      "outputs": [
        {
          "output_type": "display_data",
          "data": {
            "text/plain": [
              "<Figure size 432x288 with 1 Axes>"
            ],
            "image/png": "[encoded data removed]"
          },
          "metadata": {
            "needs_background": "light"
          }
        }
      ],
      "source": [
        "df[\"Content Rating\"].value_counts(normalize=True).plot.barh()\n",
        "plt.show()"
      ]
    },
    {
      "cell_type": "code",
      "execution_count": 48,
      "id": "0e98e717",
      "metadata": {
        "id": "0e98e717"
      },
      "outputs": [],
      "source": []
    },
    {
      "cell_type": "code",
      "execution_count": 48,
      "id": "e1fac75f",
      "metadata": {
        "id": "e1fac75f"
      },
      "outputs": [],
      "source": []
    },
    {
      "cell_type": "markdown",
      "id": "075cbe31",
      "metadata": {
        "id": "075cbe31"
      },
      "source": [
        "## Bi-Variate analysis"
      ]
    },
    {
      "cell_type": "markdown",
      "id": "56cfc24f",
      "metadata": {
        "id": "56cfc24f"
      },
      "source": [
        "Category vs Installs"
      ]
    },
    {
      "cell_type": "code",
      "execution_count": 49,
      "id": "695cb043",
      "metadata": {
        "colab": {
          "base_uri": "https://localhost:8080/",
          "height": 569
        },
        "id": "695cb043",
        "outputId": "594778e6-b872-4ee9-eb30-736aa91f0971"
      },
      "outputs": [
        {
          "output_type": "display_data",
          "data": {
            "text/plain": [
              "<Figure size 720x504 with 1 Axes>"
            ],
            "image/png": "[encoded data removed]"
          },
          "metadata": {
            "needs_background": "light"
          }
        }
      ],
      "source": [
        "plt.figure(figsize=(10,7))\n",
        "\n",
        "\n",
        "plt.xlabel(\"Category\")\n",
        "plt.ylabel(\"Installs\")\n",
        "\n",
        "df.groupby(['Category'])['Installs'].sum().sort_values(ascending=False).plot.bar()\n",
        "plt.show()"
      ]
    },
    {
      "cell_type": "markdown",
      "id": "bce0bcb6",
      "metadata": {
        "id": "bce0bcb6"
      },
      "source": [
        "From the above visualization, it can be interpreted that the top categories with the highest installs are Game, Family, Communication, News & Magazines, & Tools."
      ]
    },
    {
      "cell_type": "code",
      "execution_count": 49,
      "id": "06cebb47",
      "metadata": {
        "id": "06cebb47"
      },
      "outputs": [],
      "source": []
    },
    {
      "cell_type": "markdown",
      "id": "19f04c12",
      "metadata": {
        "id": "19f04c12"
      },
      "source": [
        "Reviews vs Apps"
      ]
    },
    {
      "cell_type": "code",
      "execution_count": 50,
      "id": "ff6ea4c9",
      "metadata": {
        "colab": {
          "base_uri": "https://localhost:8080/",
          "height": 520
        },
        "id": "ff6ea4c9",
        "outputId": "3af273c7-ef31-4fc3-d464-ee045d55080f"
      },
      "outputs": [
        {
          "output_type": "execute_result",
          "data": {
            "text/plain": [
              "                   App Category  Rating   Reviews        Size    Installs  \\\n",
              "1879    Clash of Clans     GAME     4.6  44893888  98000000.0   100000000   \n",
              "1704    Clash of Clans     GAME     4.6  44891723  98000000.0   100000000   \n",
              "1670    Clash of Clans     GAME     4.6  44891723  98000000.0   100000000   \n",
              "3986    Clash of Clans   FAMILY     4.6  44881447  98000000.0   100000000   \n",
              "1872    Subway Surfers     GAME     4.5  27725352  76000000.0  1000000000   \n",
              "1917    Subway Surfers     GAME     4.5  27725352  76000000.0  1000000000   \n",
              "1750    Subway Surfers     GAME     4.5  27724094  76000000.0  1000000000   \n",
              "1700    Subway Surfers     GAME     4.5  27723193  76000000.0  1000000000   \n",
              "1654    Subway Surfers     GAME     4.5  27722264  76000000.0  1000000000   \n",
              "3896    Subway Surfers     GAME     4.5  27711703  76000000.0  1000000000   \n",
              "1878      Clash Royale     GAME     4.6  23136735  97000000.0   100000000   \n",
              "1721      Clash Royale     GAME     4.6  23134775  97000000.0   100000000   \n",
              "1660      Clash Royale     GAME     4.6  23133508  97000000.0   100000000   \n",
              "3987      Clash Royale   FAMILY     4.6  23125280  97000000.0   100000000   \n",
              "1869  Candy Crush Saga     GAME     4.4  22430188  74000000.0   500000000   \n",
              "\n",
              "      Type  Price Content Rating    Genres  \n",
              "1879  Free    0.0   Everyone 10+  Strategy  \n",
              "1704  Free    0.0   Everyone 10+  Strategy  \n",
              "1670  Free    0.0   Everyone 10+  Strategy  \n",
              "3986  Free    0.0   Everyone 10+  Strategy  \n",
              "1872  Free    0.0   Everyone 10+    Arcade  \n",
              "1917  Free    0.0   Everyone 10+    Arcade  \n",
              "1750  Free    0.0   Everyone 10+    Arcade  \n",
              "1700  Free    0.0   Everyone 10+    Arcade  \n",
              "1654  Free    0.0   Everyone 10+    Arcade  \n",
              "3896  Free    0.0   Everyone 10+    Arcade  \n",
              "1878  Free    0.0   Everyone 10+  Strategy  \n",
              "1721  Free    0.0   Everyone 10+  Strategy  \n",
              "1660  Free    0.0   Everyone 10+  Strategy  \n",
              "3987  Free    0.0   Everyone 10+  Strategy  \n",
              "1869  Free    0.0       Everyone    Casual  "
            ],
            "text/html": [
              "\n",
              "  <div id=\"df-73d67303-9365-47fb-b543-4f2da687fea6\">\n",
              "    <div class=\"colab-df-container\">\n",
              "      <div>\n",
              "<style scoped>\n",
              "    .dataframe tbody tr th:only-of-type {\n",
              "        vertical-align: middle;\n",
              "    }\n",
              "\n",
              "    .dataframe tbody tr th {\n",
              "        vertical-align: top;\n",
              "    }\n",
              "\n",
              "    .dataframe thead th {\n",
              "        text-align: right;\n",
              "    }\n",
              "</style>\n",
              "<table border=\"1\" class=\"dataframe\">\n",
              "  <thead>\n",
              "    <tr style=\"text-align: right;\">\n",
              "      <th></th>\n",
              "      <th>App</th>\n",
              "      <th>Category</th>\n",
              "      <th>Rating</th>\n",
              "      <th>Reviews</th>\n",
              "      <th>Size</th>\n",
              "      <th>Installs</th>\n",
              "      <th>Type</th>\n",
              "      <th>Price</th>\n",
              "      <th>Content Rating</th>\n",
              "      <th>Genres</th>\n",
              "    </tr>\n",
              "  </thead>\n",
              "  <tbody>\n",
              "    <tr>\n",
              "      <th>1879</th>\n",
              "      <td>Clash of Clans</td>\n",
              "      <td>GAME</td>\n",
              "      <td>4.6</td>\n",
              "      <td>44893888</td>\n",
              "      <td>98000000.0</td>\n",
              "      <td>100000000</td>\n",
              "      <td>Free</td>\n",
              "      <td>0.0</td>\n",
              "      <td>Everyone 10+</td>\n",
              "      <td>Strategy</td>\n",
              "    </tr>\n",
              "    <tr>\n",
              "      <th>1704</th>\n",
              "      <td>Clash of Clans</td>\n",
              "      <td>GAME</td>\n",
              "      <td>4.6</td>\n",
              "      <td>44891723</td>\n",
              "      <td>98000000.0</td>\n",
              "      <td>100000000</td>\n",
              "      <td>Free</td>\n",
              "      <td>0.0</td>\n",
              "      <td>Everyone 10+</td>\n",
              "      <td>Strategy</td>\n",
              "    </tr>\n",
              "    <tr>\n",
              "      <th>1670</th>\n",
              "      <td>Clash of Clans</td>\n",
              "      <td>GAME</td>\n",
              "      <td>4.6</td>\n",
              "      <td>44891723</td>\n",
              "      <td>98000000.0</td>\n",
              "      <td>100000000</td>\n",
              "      <td>Free</td>\n",
              "      <td>0.0</td>\n",
              "      <td>Everyone 10+</td>\n",
              "      <td>Strategy</td>\n",
              "    </tr>\n",
              "    <tr>\n",
              "      <th>3986</th>\n",
              "      <td>Clash of Clans</td>\n",
              "      <td>FAMILY</td>\n",
              "      <td>4.6</td>\n",
              "      <td>44881447</td>\n",
              "      <td>98000000.0</td>\n",
              "      <td>100000000</td>\n",
              "      <td>Free</td>\n",
              "      <td>0.0</td>\n",
              "      <td>Everyone 10+</td>\n",
              "      <td>Strategy</td>\n",
              "    </tr>\n",
              "    <tr>\n",
              "      <th>1872</th>\n",
              "      <td>Subway Surfers</td>\n",
              "      <td>GAME</td>\n",
              "      <td>4.5</td>\n",
              "      <td>27725352</td>\n",
              "      <td>76000000.0</td>\n",
              "      <td>1000000000</td>\n",
              "      <td>Free</td>\n",
              "      <td>0.0</td>\n",
              "      <td>Everyone 10+</td>\n",
              "      <td>Arcade</td>\n",
              "    </tr>\n",
              "    <tr>\n",
              "      <th>1917</th>\n",
              "      <td>Subway Surfers</td>\n",
              "      <td>GAME</td>\n",
              "      <td>4.5</td>\n",
              "      <td>27725352</td>\n",
              "      <td>76000000.0</td>\n",
              "      <td>1000000000</td>\n",
              "      <td>Free</td>\n",
              "      <td>0.0</td>\n",
              "      <td>Everyone 10+</td>\n",
              "      <td>Arcade</td>\n",
              "    </tr>\n",
              "    <tr>\n",
              "      <th>1750</th>\n",
              "      <td>Subway Surfers</td>\n",
              "      <td>GAME</td>\n",
              "      <td>4.5</td>\n",
              "      <td>27724094</td>\n",
              "      <td>76000000.0</td>\n",
              "      <td>1000000000</td>\n",
              "      <td>Free</td>\n",
              "      <td>0.0</td>\n",
              "      <td>Everyone 10+</td>\n",
              "      <td>Arcade</td>\n",
              "    </tr>\n",
              "    <tr>\n",
              "      <th>1700</th>\n",
              "      <td>Subway Surfers</td>\n",
              "      <td>GAME</td>\n",
              "      <td>4.5</td>\n",
              "      <td>27723193</td>\n",
              "      <td>76000000.0</td>\n",
              "      <td>1000000000</td>\n",
              "      <td>Free</td>\n",
              "      <td>0.0</td>\n",
              "      <td>Everyone 10+</td>\n",
              "      <td>Arcade</td>\n",
              "    </tr>\n",
              "    <tr>\n",
              "      <th>1654</th>\n",
              "      <td>Subway Surfers</td>\n",
              "      <td>GAME</td>\n",
              "      <td>4.5</td>\n",
              "      <td>27722264</td>\n",
              "      <td>76000000.0</td>\n",
              "      <td>1000000000</td>\n",
              "      <td>Free</td>\n",
              "      <td>0.0</td>\n",
              "      <td>Everyone 10+</td>\n",
              "      <td>Arcade</td>\n",
              "    </tr>\n",
              "    <tr>\n",
              "      <th>3896</th>\n",
              "      <td>Subway Surfers</td>\n",
              "      <td>GAME</td>\n",
              "      <td>4.5</td>\n",
              "      <td>27711703</td>\n",
              "      <td>76000000.0</td>\n",
              "      <td>1000000000</td>\n",
              "      <td>Free</td>\n",
              "      <td>0.0</td>\n",
              "      <td>Everyone 10+</td>\n",
              "      <td>Arcade</td>\n",
              "    </tr>\n",
              "    <tr>\n",
              "      <th>1878</th>\n",
              "      <td>Clash Royale</td>\n",
              "      <td>GAME</td>\n",
              "      <td>4.6</td>\n",
              "      <td>23136735</td>\n",
              "      <td>97000000.0</td>\n",
              "      <td>100000000</td>\n",
              "      <td>Free</td>\n",
              "      <td>0.0</td>\n",
              "      <td>Everyone 10+</td>\n",
              "      <td>Strategy</td>\n",
              "    </tr>\n",
              "    <tr>\n",
              "      <th>1721</th>\n",
              "      <td>Clash Royale</td>\n",
              "      <td>GAME</td>\n",
              "      <td>4.6</td>\n",
              "      <td>23134775</td>\n",
              "      <td>97000000.0</td>\n",
              "      <td>100000000</td>\n",
              "      <td>Free</td>\n",
              "      <td>0.0</td>\n",
              "      <td>Everyone 10+</td>\n",
              "      <td>Strategy</td>\n",
              "    </tr>\n",
              "    <tr>\n",
              "      <th>1660</th>\n",
              "      <td>Clash Royale</td>\n",
              "      <td>GAME</td>\n",
              "      <td>4.6</td>\n",
              "      <td>23133508</td>\n",
              "      <td>97000000.0</td>\n",
              "      <td>100000000</td>\n",
              "      <td>Free</td>\n",
              "      <td>0.0</td>\n",
              "      <td>Everyone 10+</td>\n",
              "      <td>Strategy</td>\n",
              "    </tr>\n",
              "    <tr>\n",
              "      <th>3987</th>\n",
              "      <td>Clash Royale</td>\n",
              "      <td>FAMILY</td>\n",
              "      <td>4.6</td>\n",
              "      <td>23125280</td>\n",
              "      <td>97000000.0</td>\n",
              "      <td>100000000</td>\n",
              "      <td>Free</td>\n",
              "      <td>0.0</td>\n",
              "      <td>Everyone 10+</td>\n",
              "      <td>Strategy</td>\n",
              "    </tr>\n",
              "    <tr>\n",
              "      <th>1869</th>\n",
              "      <td>Candy Crush Saga</td>\n",
              "      <td>GAME</td>\n",
              "      <td>4.4</td>\n",
              "      <td>22430188</td>\n",
              "      <td>74000000.0</td>\n",
              "      <td>500000000</td>\n",
              "      <td>Free</td>\n",
              "      <td>0.0</td>\n",
              "      <td>Everyone</td>\n",
              "      <td>Casual</td>\n",
              "    </tr>\n",
              "  </tbody>\n",
              "</table>\n",
              "</div>\n",
              "      <button class=\"colab-df-convert\" onclick=\"convertToInteractive('df-73d67303-9365-47fb-b543-4f2da687fea6')\"\n",
              "              title=\"Convert this dataframe to an interactive table.\"\n",
              "              style=\"display:none;\">\n",
              "        \n",
              "  <svg xmlns=\"http://www.w3.org/2000/svg\" height=\"24px\"viewBox=\"0 0 24 24\"\n",
              "       width=\"24px\">\n",
              "    <path d=\"M0 0h24v24H0V0z\" fill=\"none\"/>\n",
              "    <path d=\"M18.56 5.44l.94 2.06.94-2.06 2.06-.94-2.06-.94-.94-2.06-.94 2.06-2.06.94zm-11 1L8.5 8.5l.94-2.06 2.06-.94-2.06-.94L8.5 2.5l-.94 2.06-2.06.94zm10 10l.94 2.06.94-2.06 2.06-.94-2.06-.94-.94-2.06-.94 2.06-2.06.94z\"/><path d=\"M17.41 7.96l-1.37-1.37c-.4-.4-.92-.59-1.43-.59-.52 0-1.04.2-1.43.59L10.3 9.45l-7.72 7.72c-.78.78-.78 2.05 0 2.83L4 21.41c.39.39.9.59 1.41.59.51 0 1.02-.2 1.41-.59l7.78-7.78 2.81-2.81c.8-.78.8-2.07 0-2.86zM5.41 20L4 18.59l7.72-7.72 1.47 1.35L5.41 20z\"/>\n",
              "  </svg>\n",
              "      </button>\n",
              "      \n",
              "  <style>\n",
              "    .colab-df-container {\n",
              "      display:flex;\n",
              "      flex-wrap:wrap;\n",
              "      gap: 12px;\n",
              "    }\n",
              "\n",
              "    .colab-df-convert {\n",
              "      background-color: #E8F0FE;\n",
              "      border: none;\n",
              "      border-radius: 50%;\n",
              "      cursor: pointer;\n",
              "      display: none;\n",
              "      fill: #1967D2;\n",
              "      height: 32px;\n",
              "      padding: 0 0 0 0;\n",
              "      width: 32px;\n",
              "    }\n",
              "\n",
              "    .colab-df-convert:hover {\n",
              "      background-color: #E2EBFA;\n",
              "      box-shadow: 0px 1px 2px rgba(60, 64, 67, 0.3), 0px 1px 3px 1px rgba(60, 64, 67, 0.15);\n",
              "      fill: #174EA6;\n",
              "    }\n",
              "\n",
              "    [theme=dark] .colab-df-convert {\n",
              "      background-color: #3B4455;\n",
              "      fill: #D2E3FC;\n",
              "    }\n",
              "\n",
              "    [theme=dark] .colab-df-convert:hover {\n",
              "      background-color: #434B5C;\n",
              "      box-shadow: 0px 1px 3px 1px rgba(0, 0, 0, 0.15);\n",
              "      filter: drop-shadow(0px 1px 2px rgba(0, 0, 0, 0.3));\n",
              "      fill: #FFFFFF;\n",
              "    }\n",
              "  </style>\n",
              "\n",
              "      <script>\n",
              "        const buttonEl =\n",
              "          document.querySelector('#df-73d67303-9365-47fb-b543-4f2da687fea6 button.colab-df-convert');\n",
              "        buttonEl.style.display =\n",
              "          google.colab.kernel.accessAllowed ? 'block' : 'none';\n",
              "\n",
              "        async function convertToInteractive(key) {\n",
              "          const element = document.querySelector('#df-73d67303-9365-47fb-b543-4f2da687fea6');\n",
              "          const dataTable =\n",
              "            await google.colab.kernel.invokeFunction('convertToInteractive',\n",
              "                                                     [key], {});\n",
              "          if (!dataTable) return;\n",
              "\n",
              "          const docLinkHtml = 'Like what you see? Visit the ' +\n",
              "            '<a target=\"_blank\" href=https://colab.research.google.com/notebooks/data_table.ipynb>data table notebook</a>'\n",
              "            + ' to learn more about interactive tables.';\n",
              "          element.innerHTML = '';\n",
              "          dataTable['output_type'] = 'display_data';\n",
              "          await google.colab.output.renderOutput(dataTable, element);\n",
              "          const docLink = document.createElement('div');\n",
              "          docLink.innerHTML = docLinkHtml;\n",
              "          element.appendChild(docLink);\n",
              "        }\n",
              "      </script>\n",
              "    </div>\n",
              "  </div>\n",
              "  "
            ]
          },
          "metadata": {},
          "execution_count": 50
        }
      ],
      "source": [
        "Highest_rev = df.sort_values(by='Reviews', ascending=False).head(15)\n",
        "Highest_rev"
      ]
    },
    {
      "cell_type": "markdown",
      "id": "1fae3f1f",
      "metadata": {
        "id": "1fae3f1f"
      },
      "source": [
        "From the above dataframe we can interprete, and come to conculsion that the Apps like Clash of Clans, Subway Surfers, Clash Royale, and Candy Crush Saga has the highest number of reviews on google playstore."
      ]
    },
    {
      "cell_type": "code",
      "execution_count": 50,
      "id": "10df9ed7",
      "metadata": {
        "id": "10df9ed7"
      },
      "outputs": [],
      "source": []
    },
    {
      "cell_type": "markdown",
      "id": "ec6eddb2",
      "metadata": {
        "id": "ec6eddb2"
      },
      "source": [
        "Category vs Installs"
      ]
    },
    {
      "cell_type": "code",
      "execution_count": 51,
      "id": "8232adbd",
      "metadata": {
        "colab": {
          "base_uri": "https://localhost:8080/",
          "height": 731
        },
        "id": "8232adbd",
        "outputId": "0ae1a3fd-cf32-4c00-f65e-de5496590fa9"
      },
      "outputs": [
        {
          "output_type": "execute_result",
          "data": {
            "text/plain": [
              "<matplotlib.axes._subplots.AxesSubplot at 0x7fd5c5403c90>"
            ]
          },
          "metadata": {},
          "execution_count": 51
        },
        {
          "output_type": "display_data",
          "data": {
            "text/plain": [
              "<Figure size 864x864 with 1 Axes>"
            ],
            "image/png": "[encoded data removed]"
          },
          "metadata": {
            "needs_background": "light"
          }
        }
      ],
      "source": [
        "plt.figure(figsize=(12,12))\n",
        "mean_ints = df.groupby(['Category'])['Installs'].mean().sort_values(ascending=False)\n",
        "sns.barplot(x=mean_ints, y=mean_ints.index, data=df)"
      ]
    },
    {
      "cell_type": "markdown",
      "id": "ff0d6761",
      "metadata": {
        "id": "ff0d6761"
      },
      "source": [
        "From the above output we can infer that, games, news and magazines, communication and education has the highest installs and medcal, events, beauty and comics has the least installs."
      ]
    },
    {
      "cell_type": "code",
      "execution_count": 51,
      "id": "839bb51c",
      "metadata": {
        "id": "839bb51c"
      },
      "outputs": [],
      "source": []
    },
    {
      "cell_type": "code",
      "execution_count": 51,
      "id": "d73bacb2",
      "metadata": {
        "id": "d73bacb2"
      },
      "outputs": [],
      "source": []
    },
    {
      "cell_type": "markdown",
      "id": "18b357b7",
      "metadata": {
        "id": "18b357b7"
      },
      "source": [
        "Category vs Type"
      ]
    },
    {
      "cell_type": "code",
      "execution_count": 52,
      "id": "676e36c4",
      "metadata": {
        "colab": {
          "base_uri": "https://localhost:8080/",
          "height": 1000
        },
        "id": "676e36c4",
        "outputId": "1966f997-715b-45f9-e1ea-ee50497ef104"
      },
      "outputs": [
        {
          "output_type": "stream",
          "name": "stdout",
          "text": [
            "Category           Type\n",
            "ART_AND_DESIGN     Free     59\n",
            "                   Paid      3\n",
            "AUTO_AND_VEHICLES  Free     73\n",
            "                   Paid      2\n",
            "BEAUTY             Free     47\n",
            "                          ... \n",
            "TRAVEL_AND_LOCAL   Paid     10\n",
            "VIDEO_PLAYERS      Free    130\n",
            "                   Paid      1\n",
            "WEATHER            Free     51\n",
            "                   Paid      6\n",
            "Name: Type, Length: 63, dtype: int64\n"
          ]
        },
        {
          "output_type": "display_data",
          "data": {
            "text/plain": [
              "<Figure size 720x1440 with 1 Axes>"
            ],
            "image/png": "[encoded data removed]"
          },
          "metadata": {
            "needs_background": "light"
          }
        }
      ],
      "source": [
        "print(df.groupby('Category')['Type'].value_counts())\n",
        "Type_cat = df.groupby('Category')['Type'].value_counts().unstack().plot.barh(figsize=(10,20), width=0.7)\n",
        "plt.show()"
      ]
    },
    {
      "cell_type": "markdown",
      "id": "905c97c2",
      "metadata": {
        "id": "905c97c2"
      },
      "source": [
        "So again, family category has the most free and paid app on the google play store. We can see social app is always free, like entertainment, event, education, comic, and more.\n",
        "\n",
        "The medical has a high amount of paid app considering quantity of medical app is not much."
      ]
    },
    {
      "cell_type": "code",
      "execution_count": 52,
      "id": "642eab74",
      "metadata": {
        "id": "642eab74"
      },
      "outputs": [],
      "source": []
    },
    {
      "cell_type": "code",
      "execution_count": 52,
      "id": "7d18947b",
      "metadata": {
        "id": "7d18947b"
      },
      "outputs": [],
      "source": []
    },
    {
      "cell_type": "markdown",
      "id": "e80284ec",
      "metadata": {
        "id": "e80284ec"
      },
      "source": [
        "Multivariate"
      ]
    },
    {
      "cell_type": "code",
      "execution_count": 53,
      "id": "a752b48a",
      "metadata": {
        "colab": {
          "base_uri": "https://localhost:8080/",
          "height": 460
        },
        "id": "a752b48a",
        "outputId": "8166f5bc-3d67-41b9-ce5a-431a044d5853"
      },
      "outputs": [
        {
          "output_type": "stream",
          "name": "stderr",
          "text": [
            "/usr/local/lib/python3.7/dist-packages/seaborn/_decorators.py:43: FutureWarning: Pass the following variables as keyword args: x, y. From version 0.12, the only valid positional argument will be `data`, and passing other arguments without an explicit keyword will result in an error or misinterpretation.\n",
            "  FutureWarning\n"
          ]
        },
        {
          "output_type": "execute_result",
          "data": {
            "text/plain": [
              "<matplotlib.axes._subplots.AxesSubplot at 0x7fd5c5448310>"
            ]
          },
          "metadata": {},
          "execution_count": 53
        },
        {
          "output_type": "display_data",
          "data": {
            "text/plain": [
              "<Figure size 864x432 with 1 Axes>"
            ],
            "image/png": "[encoded data removed]"
          },
          "metadata": {
            "needs_background": "light"
          }
        }
      ],
      "source": [
        "# show the distribution of apps in term of their rating, size and type\n",
        "\n",
        "plt.figure(figsize=(12, 6))\n",
        "sns.scatterplot(df['Size'],\n",
        "               df['Rating'],\n",
        "               hue=df['Type'],\n",
        "               s=50)"
      ]
    },
    {
      "cell_type": "markdown",
      "id": "df5b7acb",
      "metadata": {
        "id": "df5b7acb"
      },
      "source": [
        "From this scatter plot, we can imply that majority of the free apps are small in size and having high rating. While for paid apps, we have quite equal distribution in term on size and rating."
      ]
    },
    {
      "cell_type": "code",
      "execution_count": 54,
      "id": "ddf3bc43",
      "metadata": {
        "colab": {
          "base_uri": "https://localhost:8080/",
          "height": 206
        },
        "id": "ddf3bc43",
        "outputId": "0e4395a4-86a7-4e6b-e655-aa32aaf2c170"
      },
      "outputs": [
        {
          "output_type": "execute_result",
          "data": {
            "text/plain": [
              "            Rating   Reviews      Size  Installs     Price\n",
              "Rating    1.000000  0.068608  0.054812  0.041273 -0.018146\n",
              "Reviews   0.068608  1.000000  0.238215  0.627720 -0.009839\n",
              "Size      0.054812  0.238215  1.000000  0.164787 -0.023006\n",
              "Installs  0.041273  0.627720  0.164787  1.000000 -0.010481\n",
              "Price    -0.018146 -0.009839 -0.023006 -0.010481  1.000000"
            ],
            "text/html": [
              "\n",
              "  <div id=\"df-a4e0125c-2f4e-4e21-bb7b-9079b34f8ce5\">\n",
              "    <div class=\"colab-df-container\">\n",
              "      <div>\n",
              "<style scoped>\n",
              "    .dataframe tbody tr th:only-of-type {\n",
              "        vertical-align: middle;\n",
              "    }\n",
              "\n",
              "    .dataframe tbody tr th {\n",
              "        vertical-align: top;\n",
              "    }\n",
              "\n",
              "    .dataframe thead th {\n",
              "        text-align: right;\n",
              "    }\n",
              "</style>\n",
              "<table border=\"1\" class=\"dataframe\">\n",
              "  <thead>\n",
              "    <tr style=\"text-align: right;\">\n",
              "      <th></th>\n",
              "      <th>Rating</th>\n",
              "      <th>Reviews</th>\n",
              "      <th>Size</th>\n",
              "      <th>Installs</th>\n",
              "      <th>Price</th>\n",
              "    </tr>\n",
              "  </thead>\n",
              "  <tbody>\n",
              "    <tr>\n",
              "      <th>Rating</th>\n",
              "      <td>1.000000</td>\n",
              "      <td>0.068608</td>\n",
              "      <td>0.054812</td>\n",
              "      <td>0.041273</td>\n",
              "      <td>-0.018146</td>\n",
              "    </tr>\n",
              "    <tr>\n",
              "      <th>Reviews</th>\n",
              "      <td>0.068608</td>\n",
              "      <td>1.000000</td>\n",
              "      <td>0.238215</td>\n",
              "      <td>0.627720</td>\n",
              "      <td>-0.009839</td>\n",
              "    </tr>\n",
              "    <tr>\n",
              "      <th>Size</th>\n",
              "      <td>0.054812</td>\n",
              "      <td>0.238215</td>\n",
              "      <td>1.000000</td>\n",
              "      <td>0.164787</td>\n",
              "      <td>-0.023006</td>\n",
              "    </tr>\n",
              "    <tr>\n",
              "      <th>Installs</th>\n",
              "      <td>0.041273</td>\n",
              "      <td>0.627720</td>\n",
              "      <td>0.164787</td>\n",
              "      <td>1.000000</td>\n",
              "      <td>-0.010481</td>\n",
              "    </tr>\n",
              "    <tr>\n",
              "      <th>Price</th>\n",
              "      <td>-0.018146</td>\n",
              "      <td>-0.009839</td>\n",
              "      <td>-0.023006</td>\n",
              "      <td>-0.010481</td>\n",
              "      <td>1.000000</td>\n",
              "    </tr>\n",
              "  </tbody>\n",
              "</table>\n",
              "</div>\n",
              "      <button class=\"colab-df-convert\" onclick=\"convertToInteractive('df-a4e0125c-2f4e-4e21-bb7b-9079b34f8ce5')\"\n",
              "              title=\"Convert this dataframe to an interactive table.\"\n",
              "              style=\"display:none;\">\n",
              "        \n",
              "  <svg xmlns=\"http://www.w3.org/2000/svg\" height=\"24px\"viewBox=\"0 0 24 24\"\n",
              "       width=\"24px\">\n",
              "    <path d=\"M0 0h24v24H0V0z\" fill=\"none\"/>\n",
              "    <path d=\"M18.56 5.44l.94 2.06.94-2.06 2.06-.94-2.06-.94-.94-2.06-.94 2.06-2.06.94zm-11 1L8.5 8.5l.94-2.06 2.06-.94-2.06-.94L8.5 2.5l-.94 2.06-2.06.94zm10 10l.94 2.06.94-2.06 2.06-.94-2.06-.94-.94-2.06-.94 2.06-2.06.94z\"/><path d=\"M17.41 7.96l-1.37-1.37c-.4-.4-.92-.59-1.43-.59-.52 0-1.04.2-1.43.59L10.3 9.45l-7.72 7.72c-.78.78-.78 2.05 0 2.83L4 21.41c.39.39.9.59 1.41.59.51 0 1.02-.2 1.41-.59l7.78-7.78 2.81-2.81c.8-.78.8-2.07 0-2.86zM5.41 20L4 18.59l7.72-7.72 1.47 1.35L5.41 20z\"/>\n",
              "  </svg>\n",
              "      </button>\n",
              "      \n",
              "  <style>\n",
              "    .colab-df-container {\n",
              "      display:flex;\n",
              "      flex-wrap:wrap;\n",
              "      gap: 12px;\n",
              "    }\n",
              "\n",
              "    .colab-df-convert {\n",
              "      background-color: #E8F0FE;\n",
              "      border: none;\n",
              "      border-radius: 50%;\n",
              "      cursor: pointer;\n",
              "      display: none;\n",
              "      fill: #1967D2;\n",
              "      height: 32px;\n",
              "      padding: 0 0 0 0;\n",
              "      width: 32px;\n",
              "    }\n",
              "\n",
              "    .colab-df-convert:hover {\n",
              "      background-color: #E2EBFA;\n",
              "      box-shadow: 0px 1px 2px rgba(60, 64, 67, 0.3), 0px 1px 3px 1px rgba(60, 64, 67, 0.15);\n",
              "      fill: #174EA6;\n",
              "    }\n",
              "\n",
              "    [theme=dark] .colab-df-convert {\n",
              "      background-color: #3B4455;\n",
              "      fill: #D2E3FC;\n",
              "    }\n",
              "\n",
              "    [theme=dark] .colab-df-convert:hover {\n",
              "      background-color: #434B5C;\n",
              "      box-shadow: 0px 1px 3px 1px rgba(0, 0, 0, 0.15);\n",
              "      filter: drop-shadow(0px 1px 2px rgba(0, 0, 0, 0.3));\n",
              "      fill: #FFFFFF;\n",
              "    }\n",
              "  </style>\n",
              "\n",
              "      <script>\n",
              "        const buttonEl =\n",
              "          document.querySelector('#df-a4e0125c-2f4e-4e21-bb7b-9079b34f8ce5 button.colab-df-convert');\n",
              "        buttonEl.style.display =\n",
              "          google.colab.kernel.accessAllowed ? 'block' : 'none';\n",
              "\n",
              "        async function convertToInteractive(key) {\n",
              "          const element = document.querySelector('#df-a4e0125c-2f4e-4e21-bb7b-9079b34f8ce5');\n",
              "          const dataTable =\n",
              "            await google.colab.kernel.invokeFunction('convertToInteractive',\n",
              "                                                     [key], {});\n",
              "          if (!dataTable) return;\n",
              "\n",
              "          const docLinkHtml = 'Like what you see? Visit the ' +\n",
              "            '<a target=\"_blank\" href=https://colab.research.google.com/notebooks/data_table.ipynb>data table notebook</a>'\n",
              "            + ' to learn more about interactive tables.';\n",
              "          element.innerHTML = '';\n",
              "          dataTable['output_type'] = 'display_data';\n",
              "          await google.colab.output.renderOutput(dataTable, element);\n",
              "          const docLink = document.createElement('div');\n",
              "          docLink.innerHTML = docLinkHtml;\n",
              "          element.appendChild(docLink);\n",
              "        }\n",
              "      </script>\n",
              "    </div>\n",
              "  </div>\n",
              "  "
            ]
          },
          "metadata": {},
          "execution_count": 54
        }
      ],
      "source": [
        "# correlation\n",
        "df.corr()"
      ]
    },
    {
      "cell_type": "code",
      "execution_count": 55,
      "id": "c87db4cb",
      "metadata": {
        "colab": {
          "base_uri": "https://localhost:8080/",
          "height": 286
        },
        "id": "c87db4cb",
        "outputId": "e18a6e3a-4d98-4a39-d81f-73db1b377dde"
      },
      "outputs": [
        {
          "output_type": "execute_result",
          "data": {
            "text/plain": [
              "<matplotlib.axes._subplots.AxesSubplot at 0x7fd5c5455910>"
            ]
          },
          "metadata": {},
          "execution_count": 55
        },
        {
          "output_type": "display_data",
          "data": {
            "text/plain": [
              "<Figure size 432x288 with 2 Axes>"
            ],
            "image/png": "[encoded data removed]"
          },
          "metadata": {
            "needs_background": "light"
          }
        }
      ],
      "source": [
        "#Corelation matrix\n",
        "\n",
        "sns.heatmap(df.corr(), annot=True, cmap=\"Reds\")"
      ]
    },
    {
      "cell_type": "markdown",
      "id": "38b466cf",
      "metadata": {
        "id": "38b466cf"
      },
      "source": [
        "REVIEWS AND INSTALLS ARE HIGHLY CORELATED WITH 0.63"
      ]
    },
    {
      "cell_type": "code",
      "execution_count": 55,
      "id": "bc13494b",
      "metadata": {
        "id": "bc13494b"
      },
      "outputs": [],
      "source": []
    },
    {
      "cell_type": "markdown",
      "id": "d4cff061",
      "metadata": {
        "id": "d4cff061"
      },
      "source": [
        "Pairplot between all the possible columns"
      ]
    },
    {
      "cell_type": "code",
      "execution_count": 56,
      "id": "d54d31a2",
      "metadata": {
        "id": "d54d31a2"
      },
      "outputs": [],
      "source": [
        "?sns.pairplot"
      ]
    },
    {
      "cell_type": "code",
      "execution_count": 57,
      "id": "50daf8fd",
      "metadata": {
        "colab": {
          "base_uri": "https://localhost:8080/",
          "height": 726
        },
        "id": "50daf8fd",
        "outputId": "f0e1916c-5eb7-45cb-a7bb-e2a033944250"
      },
      "outputs": [
        {
          "output_type": "display_data",
          "data": {
            "text/plain": [
              "<Figure size 720x720 with 20 Axes>"
            ],
            "image/png": "[encoded data removed]"
          },
          "metadata": {
            "needs_background": "light"
          }
        }
      ],
      "source": [
        "sns.pairplot(df[['Reviews', 'Size', 'Price','Rating']])\n",
        "plt.show()"
      ]
    },
    {
      "cell_type": "code",
      "execution_count": 57,
      "id": "b96776f6",
      "metadata": {
        "id": "b96776f6"
      },
      "outputs": [],
      "source": []
    },
    {
      "cell_type": "markdown",
      "id": "2b448974",
      "metadata": {
        "id": "2b448974"
      },
      "source": [
        "Type column"
      ]
    },
    {
      "cell_type": "code",
      "execution_count": 58,
      "id": "b2a0359f",
      "metadata": {
        "colab": {
          "base_uri": "https://localhost:8080/"
        },
        "id": "b2a0359f",
        "outputId": "609f6487-e007-4621-af6d-91235e6fefaa"
      },
      "outputs": [
        {
          "output_type": "execute_result",
          "data": {
            "text/plain": [
              "count     9145\n",
              "unique       2\n",
              "top       Free\n",
              "freq      8421\n",
              "Name: Type, dtype: object"
            ]
          },
          "metadata": {},
          "execution_count": 58
        }
      ],
      "source": [
        "df['Type'].describe()"
      ]
    },
    {
      "cell_type": "markdown",
      "id": "fbe4b147",
      "metadata": {
        "id": "fbe4b147"
      },
      "source": [
        "Price column"
      ]
    },
    {
      "cell_type": "code",
      "execution_count": 59,
      "id": "eaf6650c",
      "metadata": {
        "colab": {
          "base_uri": "https://localhost:8080/"
        },
        "id": "eaf6650c",
        "outputId": "7fb765c9-c318-4add-bde4-43d41f30face"
      },
      "outputs": [
        {
          "output_type": "execute_result",
          "data": {
            "text/plain": [
              "count    9145.000000\n",
              "mean        1.184366\n",
              "std        17.355754\n",
              "min         0.000000\n",
              "25%         0.000000\n",
              "50%         0.000000\n",
              "75%         0.000000\n",
              "max       400.000000\n",
              "Name: Price, dtype: float64"
            ]
          },
          "metadata": {},
          "execution_count": 59
        }
      ],
      "source": [
        "df['Price'].describe()"
      ]
    },
    {
      "cell_type": "markdown",
      "id": "83f7bff8",
      "metadata": {
        "id": "83f7bff8"
      },
      "source": [
        "Rating column"
      ]
    },
    {
      "cell_type": "code",
      "execution_count": 60,
      "id": "fef54229",
      "metadata": {
        "colab": {
          "base_uri": "https://localhost:8080/"
        },
        "id": "fef54229",
        "outputId": "5a82fd01-872d-4c81-e862-7875f1aa4bfd"
      },
      "outputs": [
        {
          "output_type": "execute_result",
          "data": {
            "text/plain": [
              "count    9145.000000\n",
              "mean        4.208868\n",
              "std         0.507267\n",
              "min         1.000000\n",
              "25%         4.100000\n",
              "50%         4.400000\n",
              "75%         4.500000\n",
              "max         5.000000\n",
              "Name: Rating, dtype: float64"
            ]
          },
          "metadata": {},
          "execution_count": 60
        }
      ],
      "source": [
        "df['Rating'].describe()"
      ]
    },
    {
      "cell_type": "code",
      "execution_count": 60,
      "id": "42748f44",
      "metadata": {
        "id": "42748f44"
      },
      "outputs": [],
      "source": []
    },
    {
      "cell_type": "markdown",
      "id": "68f07c86",
      "metadata": {
        "id": "68f07c86"
      },
      "source": [
        "### Inferences and Conclusion\n",
        "\n",
        "\n",
        "\n",
        "After Analyzing the dataset we have got answers to some of the serious & interesting questions which any of the android users would love to know.\n",
        "\n",
        "Top categories on Google Playstore?\n",
        "Which category of Content is found more?\n",
        "What percentage of apps are Free and Paid?\n",
        "Count of Apps found in different genres?\n",
        "Distribution of the ratings of the apps?\n",
        "Which are the top 5 expensive Apps?\n",
        "Which are the Apps with the highest number of reviews?\n",
        "Which category of apps has the most number of installs?\n",
        "Count of Free and Paid apps in each category?\n"
      ]
    },
    {
      "cell_type": "code",
      "execution_count": 60,
      "id": "0b4a3231",
      "metadata": {
        "id": "0b4a3231"
      },
      "outputs": [],
      "source": []
    }
  ],
  "metadata": {
    "kernelspec": {
      "display_name": "Python 3 (ipykernel)",
      "language": "python",
      "name": "python3"
    },
    "language_info": {
      "codemirror_mode": {
        "name": "ipython",
        "version": 3
      },
      "file_extension": ".py",
      "mimetype": "text/x-python",
      "name": "python",
      "nbconvert_exporter": "python",
      "pygments_lexer": "ipython3",
      "version": "3.9.12"
    },
    "colab": {
      "provenance": [],
      "include_colab_link": true
    }
  },
  "nbformat": 4,
  "nbformat_minor": 5
}